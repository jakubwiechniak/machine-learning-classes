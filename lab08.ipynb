{
 "cells": [
  {
   "cell_type": "code",
   "execution_count": 1,
   "id": "initial_id",
   "metadata": {
    "collapsed": true,
    "jupyter": {
     "outputs_hidden": true
    },
    "ExecuteTime": {
     "end_time": "2024-05-09T15:59:46.163125Z",
     "start_time": "2024-05-09T15:59:42.743552Z"
    }
   },
   "outputs": [],
   "source": [
    "import numpy as np\n",
    "from sklearn import datasets\n",
    "data_breast_cancer = datasets.load_breast_cancer()\n",
    "from sklearn.datasets import load_iris\n",
    "data_iris = load_iris()\n"
   ]
  },
  {
   "cell_type": "code",
   "execution_count": 2,
   "id": "bd6cf30e304c5c84",
   "metadata": {
    "collapsed": false,
    "ExecuteTime": {
     "end_time": "2024-05-09T15:59:46.760501Z",
     "start_time": "2024-05-09T15:59:46.164135Z"
    }
   },
   "outputs": [],
   "source": [
    "X = data_breast_cancer.data\n",
    "y = data_breast_cancer.target\n",
    "from sklearn.decomposition import PCA\n",
    "from sklearn.preprocessing import StandardScaler\n",
    "pca = PCA(n_components=0.9)\n",
    "scaler = StandardScaler()\n",
    "X_scaled = scaler.fit_transform(X)\n",
    "X_reduced = pca.fit_transform(X_scaled)"
   ]
  },
  {
   "cell_type": "code",
   "execution_count": 3,
   "id": "819325a66ba5f826",
   "metadata": {
    "collapsed": false,
    "ExecuteTime": {
     "end_time": "2024-05-09T15:59:46.765411Z",
     "start_time": "2024-05-09T15:59:46.760501Z"
    }
   },
   "outputs": [],
   "source": [
    "import pickle\n",
    "with open(\"pca_bc.pkl\", \"wb\") as file:\n",
    "    pickle.dump(pca.explained_variance_ratio_, file)"
   ]
  },
  {
   "cell_type": "code",
   "execution_count": 4,
   "id": "597215f8087cd5b0",
   "metadata": {
    "collapsed": false,
    "ExecuteTime": {
     "end_time": "2024-05-09T15:59:46.771109Z",
     "start_time": "2024-05-09T15:59:46.765411Z"
    }
   },
   "outputs": [],
   "source": [
    "X_iris = data_iris.data\n",
    "y_iris = data_iris.target\n",
    "pca_iris = PCA(n_components=0.9)\n",
    "scaler_iris = StandardScaler()\n",
    "X_scaled_iris = scaler_iris.fit_transform(X_iris)\n",
    "X_reduced_iris = pca_iris.fit_transform(X_scaled_iris)"
   ]
  },
  {
   "cell_type": "code",
   "execution_count": 5,
   "id": "911eedbd4303ce22",
   "metadata": {
    "collapsed": false,
    "ExecuteTime": {
     "end_time": "2024-05-09T15:59:46.775816Z",
     "start_time": "2024-05-09T15:59:46.772762Z"
    }
   },
   "outputs": [],
   "source": [
    "import pickle\n",
    "with open(\"pca_ir.pkl\", \"wb\") as file:\n",
    "    pickle.dump(pca_iris.explained_variance_ratio_, file)"
   ]
  },
  {
   "cell_type": "code",
   "execution_count": 6,
   "id": "84e3ce02cd7ecf52",
   "metadata": {
    "collapsed": false,
    "ExecuteTime": {
     "end_time": "2024-05-09T15:59:46.785226Z",
     "start_time": "2024-05-09T15:59:46.776835Z"
    }
   },
   "outputs": [
    {
     "name": "stdout",
     "output_type": "stream",
     "text": [
      "[ 7  9 11 21  4 28 29]\n",
      "[2 1]\n"
     ]
    }
   ],
   "source": [
    "result = []\n",
    "indexes_bc = np.argmax(np.abs(pca.components_), axis=1)\n",
    "indexes_ir = np.argmax(np.abs(pca_iris.components_), axis=1)\n",
    "print(indexes_bc)\n",
    "print(indexes_ir)\n",
    "with open(\"idx_bc.pkl\", \"wb\") as file:\n",
    "    pickle.dump(indexes_bc, file)\n",
    "with open(\"idx_ir.pkl\", \"wb\") as file:\n",
    "    pickle.dump(indexes_ir, file)"
   ]
  },
  {
   "cell_type": "code",
   "execution_count": 6,
   "id": "8343ee3e7fde6294",
   "metadata": {
    "collapsed": false,
    "ExecuteTime": {
     "end_time": "2024-05-09T15:59:46.788295Z",
     "start_time": "2024-05-09T15:59:46.786235Z"
    }
   },
   "outputs": [],
   "source": []
  }
 ],
 "metadata": {
  "kernelspec": {
   "display_name": "Python 3 (ipykernel)",
   "language": "python",
   "name": "python3"
  },
  "language_info": {
   "codemirror_mode": {
    "name": "ipython",
    "version": 3
   },
   "file_extension": ".py",
   "mimetype": "text/x-python",
   "name": "python",
   "nbconvert_exporter": "python",
   "pygments_lexer": "ipython3",
   "version": "3.12.0"
  }
 },
 "nbformat": 4,
 "nbformat_minor": 5
}
