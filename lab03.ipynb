{
 "cells": [
  {
   "cell_type": "code",
   "execution_count": 14,
   "id": "initial_id",
   "metadata": {
    "ExecuteTime": {
     "end_time": "2024-03-19T11:26:32.141252Z",
     "start_time": "2024-03-19T11:26:31.725261Z"
    },
    "collapsed": true,
    "jupyter": {
     "outputs_hidden": true
    }
   },
   "outputs": [
    {
     "data": {
      "text/plain": [
       "<Axes: xlabel='x', ylabel='y'>"
      ]
     },
     "execution_count": 14,
     "metadata": {},
     "output_type": "execute_result"
    },
    {
     "data": {
      "image/png": "[encoded data removed]",
      "text/plain": [
       "<Figure size 640x480 with 1 Axes>"
      ]
     },
     "metadata": {},
     "output_type": "display_data"
    }
   ],
   "source": [
    "import pandas as pd\n",
    "import numpy as np\n",
    "import pickle\n",
    "size = 300\n",
    "X = np.random.rand(size)*5-2.5\n",
    "w4, w3, w2, w1, w0 = 1, 2, 1, -4, 2\n",
    "y = w4*(X**4) + w3*(X**3) + w2*(X**2) + w1*X + w0 + np.random.randn(size)*8-4 \n",
    "df = pd.DataFrame({'x': X, 'y': y})\n",
    "df.to_csv('dane_do_regresji.csv',index=None)\n",
    "df.plot.scatter(x='x',y='y')"
   ]
  },
  {
   "cell_type": "code",
   "execution_count": 15,
   "id": "e3941152ecc7e1ff",
   "metadata": {
    "ExecuteTime": {
     "end_time": "2024-03-19T11:26:32.155060Z",
     "start_time": "2024-03-19T11:26:32.144742Z"
    },
    "collapsed": false,
    "jupyter": {
     "outputs_hidden": false
    }
   },
   "outputs": [],
   "source": [
    "from sklearn.model_selection import train_test_split\n",
    "X_train, X_test, y_train, y_test = train_test_split(df[['x']], df[['y']], test_size=0.2, random_state=42)"
   ]
  },
  {
   "cell_type": "code",
   "execution_count": 16,
   "id": "c9d399d93867ead",
   "metadata": {
    "ExecuteTime": {
     "end_time": "2024-03-19T11:26:32.187866Z",
     "start_time": "2024-03-19T11:26:32.158767Z"
    },
    "collapsed": false,
    "jupyter": {
     "outputs_hidden": false
    }
   },
   "outputs": [],
   "source": [
    "from sklearn.metrics import mean_squared_error\n",
    "from sklearn.linear_model import LinearRegression\n",
    "\n",
    "lin_reg = LinearRegression()\n",
    "lin_reg.fit(X_train, y_train)\n",
    "\n",
    "y_train_hat = lin_reg.predict(X_train)\n",
    "y_test_hat = lin_reg.predict(X_test)\n",
    "\n",
    "mse_lg_train = mean_squared_error(y_train, y_train_hat)\n",
    "mse_lg_test = mean_squared_error(y_test, y_test_hat)"
   ]
  },
  {
   "cell_type": "code",
   "execution_count": 17,
   "id": "815d414cb5805023",
   "metadata": {
    "ExecuteTime": {
     "end_time": "2024-03-19T11:26:32.214018Z",
     "start_time": "2024-03-19T11:26:32.192220Z"
    },
    "collapsed": false,
    "jupyter": {
     "outputs_hidden": false
    }
   },
   "outputs": [],
   "source": [
    "from sklearn.neighbors import KNeighborsRegressor\n",
    "\n",
    "knn_3_reg = KNeighborsRegressor(n_neighbors=3)\n",
    "knn_3_reg.fit(X_train, y_train)\n",
    "\n",
    "y_train_hat = knn_3_reg.predict(X_train)\n",
    "y_test_hat = knn_3_reg.predict(X_test)\n",
    "\n",
    "knn_3_reg_train = mean_squared_error(y_train, y_train_hat)\n",
    "knn_3_reg_test = mean_squared_error(y_test, y_test_hat)"
   ]
  },
  {
   "cell_type": "code",
   "execution_count": 18,
   "id": "707963e189c567e0",
   "metadata": {
    "ExecuteTime": {
     "end_time": "2024-03-19T11:26:32.238391Z",
     "start_time": "2024-03-19T11:26:32.215742Z"
    },
    "collapsed": false,
    "jupyter": {
     "outputs_hidden": false
    }
   },
   "outputs": [],
   "source": [
    "from sklearn.neighbors import KNeighborsRegressor\n",
    "\n",
    "knn_5_reg = KNeighborsRegressor(n_neighbors=5)\n",
    "knn_5_reg.fit(X_train, y_train)\n",
    "\n",
    "y_train_hat = knn_5_reg.predict(X_train)\n",
    "y_test_hat = knn_5_reg.predict(X_test)\n",
    "\n",
    "knn_5_reg_train = mean_squared_error(y_train, y_train_hat)\n",
    "knn_5_reg_test = mean_squared_error(y_test, y_test_hat)"
   ]
  },
  {
   "cell_type": "code",
   "execution_count": 19,
   "id": "2b2c50a4276ee81f",
   "metadata": {
    "ExecuteTime": {
     "end_time": "2024-03-19T11:26:32.263850Z",
     "start_time": "2024-03-19T11:26:32.240668Z"
    },
    "collapsed": false,
    "jupyter": {
     "outputs_hidden": false
    }
   },
   "outputs": [],
   "source": [
    "from sklearn.preprocessing import PolynomialFeatures\n",
    "\n",
    "poly_2_features = PolynomialFeatures(degree=2, include_bias=False)\n",
    "X_train_poly = poly_2_features.fit_transform(X_train)\n",
    "X_test_poly = poly_2_features.transform(X_test)\n",
    "\n",
    "poly_2_lin_reg = LinearRegression()\n",
    "poly_2_lin_reg.fit(X_train_poly, y_train)\n",
    "\n",
    "y_train_hat = poly_2_lin_reg.predict(X_train_poly)\n",
    "y_test_hat = poly_2_lin_reg.predict(X_test_poly)\n",
    "\n",
    "poly_2_features_train = mean_squared_error(y_train, y_train_hat)\n",
    "poly_2_features_test = mean_squared_error(y_test, y_test_hat)"
   ]
  },
  {
   "cell_type": "code",
   "execution_count": 20,
   "id": "97ae9253eb5225b3",
   "metadata": {
    "ExecuteTime": {
     "end_time": "2024-03-19T11:26:32.284775Z",
     "start_time": "2024-03-19T11:26:32.265587Z"
    },
    "collapsed": false,
    "jupyter": {
     "outputs_hidden": false
    }
   },
   "outputs": [],
   "source": [
    "poly_3_features = PolynomialFeatures(degree=3, include_bias=False)\n",
    "X_train_poly = poly_3_features.fit_transform(X_train)\n",
    "X_test_poly = poly_3_features.transform(X_test)\n",
    "\n",
    "poly_3_lin_reg = LinearRegression()\n",
    "poly_3_lin_reg.fit(X_train_poly, y_train)\n",
    "\n",
    "y_train_hat = poly_3_lin_reg.predict(X_train_poly)\n",
    "y_test_hat = poly_3_lin_reg.predict(X_test_poly)\n",
    "\n",
    "poly_3_features_train = mean_squared_error(y_train, y_train_hat)\n",
    "poly_3_features_test = mean_squared_error(y_test, y_test_hat)"
   ]
  },
  {
   "cell_type": "code",
   "execution_count": 21,
   "id": "67eec5ffa46f483b",
   "metadata": {
    "ExecuteTime": {
     "end_time": "2024-03-19T11:26:32.308669Z",
     "start_time": "2024-03-19T11:26:32.288208Z"
    },
    "collapsed": false,
    "jupyter": {
     "outputs_hidden": false
    }
   },
   "outputs": [],
   "source": [
    "poly_4_features = PolynomialFeatures(degree=4, include_bias=False)\n",
    "X_train_poly = poly_4_features.fit_transform(X_train)\n",
    "X_test_poly = poly_4_features.transform(X_test)\n",
    "\n",
    "poly_4_lin_reg = LinearRegression()\n",
    "poly_4_lin_reg.fit(X_train_poly, y_train)\n",
    "\n",
    "y_train_hat = poly_4_lin_reg.predict(X_train_poly)\n",
    "y_test_hat = poly_4_lin_reg.predict(X_test_poly)\n",
    "\n",
    "poly_4_features_train = mean_squared_error(y_train, y_train_hat)\n",
    "poly_4_features_test = mean_squared_error(y_test, y_test_hat)"
   ]
  },
  {
   "cell_type": "code",
   "execution_count": 22,
   "id": "7ece3595f16feef7",
   "metadata": {
    "ExecuteTime": {
     "end_time": "2024-03-19T11:26:32.333934Z",
     "start_time": "2024-03-19T11:26:32.311570Z"
    },
    "collapsed": false,
    "jupyter": {
     "outputs_hidden": false
    }
   },
   "outputs": [],
   "source": [
    "poly_5_features = PolynomialFeatures(degree=5, include_bias=False)\n",
    "X_train_poly = poly_5_features.fit_transform(X_train)\n",
    "X_test_poly = poly_5_features.transform(X_test)\n",
    "\n",
    "poly_5_lin_reg = LinearRegression()\n",
    "poly_5_lin_reg.fit(X_train_poly, y_train)\n",
    "\n",
    "y_train_hat = poly_5_lin_reg.predict(X_train_poly)\n",
    "y_test_hat = poly_5_lin_reg.predict(X_test_poly)\n",
    "\n",
    "poly_5_features_train = mean_squared_error(y_train, y_train_hat)\n",
    "poly_5_features_test = mean_squared_error(y_test, y_test_hat)"
   ]
  },
  {
   "cell_type": "code",
   "execution_count": 23,
   "id": "e9e6d2230a205b7a",
   "metadata": {
    "ExecuteTime": {
     "end_time": "2024-03-19T11:26:32.356245Z",
     "start_time": "2024-03-19T11:26:32.337426Z"
    },
    "collapsed": false,
    "jupyter": {
     "outputs_hidden": false
    }
   },
   "outputs": [
    {
     "data": {
      "text/html": [
       "<div>\n",
       "<style scoped>\n",
       "    .dataframe tbody tr th:only-of-type {\n",
       "        vertical-align: middle;\n",
       "    }\n",
       "\n",
       "    .dataframe tbody tr th {\n",
       "        vertical-align: top;\n",
       "    }\n",
       "\n",
       "    .dataframe thead th {\n",
       "        text-align: right;\n",
       "    }\n",
       "</style>\n",
       "<table border=\"1\" class=\"dataframe\">\n",
       "  <thead>\n",
       "    <tr style=\"text-align: right;\">\n",
       "      <th></th>\n",
       "      <th>train_mse</th>\n",
       "      <th>test_mse</th>\n",
       "    </tr>\n",
       "  </thead>\n",
       "  <tbody>\n",
       "    <tr>\n",
       "      <th>lin_reg</th>\n",
       "      <td>231.960435</td>\n",
       "      <td>129.958617</td>\n",
       "    </tr>\n",
       "    <tr>\n",
       "      <th>knn_3_reg</th>\n",
       "      <td>38.205222</td>\n",
       "      <td>94.937955</td>\n",
       "    </tr>\n",
       "    <tr>\n",
       "      <th>knn_5_reg</th>\n",
       "      <td>46.919720</td>\n",
       "      <td>80.359892</td>\n",
       "    </tr>\n",
       "    <tr>\n",
       "      <th>poly_2_reg</th>\n",
       "      <td>98.816867</td>\n",
       "      <td>67.320003</td>\n",
       "    </tr>\n",
       "    <tr>\n",
       "      <th>poly_3_reg</th>\n",
       "      <td>68.881488</td>\n",
       "      <td>66.859869</td>\n",
       "    </tr>\n",
       "    <tr>\n",
       "      <th>poly_4_reg</th>\n",
       "      <td>63.053570</td>\n",
       "      <td>54.863112</td>\n",
       "    </tr>\n",
       "    <tr>\n",
       "      <th>poly_5_reg</th>\n",
       "      <td>62.738098</td>\n",
       "      <td>54.509352</td>\n",
       "    </tr>\n",
       "  </tbody>\n",
       "</table>\n",
       "</div>"
      ],
      "text/plain": [
       "             train_mse    test_mse\n",
       "lin_reg     231.960435  129.958617\n",
       "knn_3_reg    38.205222   94.937955\n",
       "knn_5_reg    46.919720   80.359892\n",
       "poly_2_reg   98.816867   67.320003\n",
       "poly_3_reg   68.881488   66.859869\n",
       "poly_4_reg   63.053570   54.863112\n",
       "poly_5_reg   62.738098   54.509352"
      ]
     },
     "execution_count": 23,
     "metadata": {},
     "output_type": "execute_result"
    }
   ],
   "source": [
    "data = {\n",
    "    \"train_mse\": [mse_lg_train, knn_3_reg_train, knn_5_reg_train, poly_2_features_train, poly_3_features_train, poly_4_features_train, poly_5_features_train],\n",
    "    \"test_mse\": [mse_lg_test, knn_3_reg_test, knn_5_reg_test, poly_2_features_test, poly_3_features_test, poly_4_features_test, poly_5_features_test]\n",
    "}\n",
    "\n",
    "df = pd.DataFrame(data, index = [\"lin_reg\", \"knn_3_reg\", \"knn_5_reg\", \"poly_2_reg\", \"poly_3_reg\", \"poly_4_reg\", \"poly_5_reg\" ])\n",
    "df"
   ]
  },
  {
   "cell_type": "code",
   "execution_count": 24,
   "id": "5bfaa8258f5e67eb",
   "metadata": {
    "ExecuteTime": {
     "end_time": "2024-03-19T11:26:32.367727Z",
     "start_time": "2024-03-19T11:26:32.358799Z"
    },
    "collapsed": false,
    "jupyter": {
     "outputs_hidden": false
    }
   },
   "outputs": [],
   "source": [
    "df.to_pickle('mse.pkl')"
   ]
  },
  {
   "cell_type": "code",
   "execution_count": 26,
   "id": "8b3326a5f77b9f1b",
   "metadata": {
    "ExecuteTime": {
     "end_time": "2024-03-19T11:27:04.706758Z",
     "start_time": "2024-03-19T11:27:04.697193Z"
    },
    "collapsed": false,
    "jupyter": {
     "outputs_hidden": false
    }
   },
   "outputs": [],
   "source": [
    "reg = [\n",
    "    (lin_reg, None),\n",
    "    (knn_3_reg, None),\n",
    "    (knn_5_reg, None),\n",
    "    (poly_2_lin_reg, poly_2_features),\n",
    "    (poly_3_lin_reg, poly_3_features),\n",
    "    (poly_4_lin_reg, poly_4_features),\n",
    "    (poly_5_lin_reg, poly_5_features),\n",
    "]\n",
    "\n",
    "with open('reg.pkl', 'wb') as f:\n",
    "    pickle.dump(reg, f)"
   ]
  },
  {
   "cell_type": "code",
   "execution_count": 25,
   "id": "8d6257afd3588881",
   "metadata": {
    "ExecuteTime": {
     "end_time": "2024-03-19T11:26:32.391152Z",
     "start_time": "2024-03-19T11:26:32.386297Z"
    },
    "collapsed": false,
    "jupyter": {
     "outputs_hidden": false
    }
   },
   "outputs": [],
   "source": []
  }
 ],
 "metadata": {
  "kernelspec": {
   "display_name": "Python 3 (ipykernel)",
   "language": "python",
   "name": "python3"
  },
  "language_info": {
   "codemirror_mode": {
    "name": "ipython",
    "version": 3
   },
   "file_extension": ".py",
   "mimetype": "text/x-python",
   "name": "python",
   "nbconvert_exporter": "python",
   "pygments_lexer": "ipython3",
   "version": "3.12.0"
  }
 },
 "nbformat": 4,
 "nbformat_minor": 5
}
