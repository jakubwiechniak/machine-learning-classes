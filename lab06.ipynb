{
 "cells": [
  {
   "cell_type": "code",
   "execution_count": 1,
   "id": "initial_id",
   "metadata": {
    "collapsed": true,
    "jupyter": {
     "outputs_hidden": true
    },
    "ExecuteTime": {
     "end_time": "2024-04-16T10:43:57.596219Z",
     "start_time": "2024-04-16T10:43:50.470387Z"
    }
   },
   "outputs": [],
   "source": [
    "from sklearn import datasets\n",
    "from sklearn.ensemble import VotingClassifier, BaggingClassifier, RandomForestClassifier, AdaBoostClassifier, \\\n",
    "    GradientBoostingClassifier\n",
    "from sklearn.neighbors import KNeighborsClassifier\n",
    "\n",
    "data_breast_cancer = datasets.load_breast_cancer()"
   ]
  },
  {
   "cell_type": "code",
   "execution_count": 2,
   "id": "1e2537727ebdb295",
   "metadata": {
    "collapsed": false,
    "ExecuteTime": {
     "end_time": "2024-04-16T10:43:57.611746Z",
     "start_time": "2024-04-16T10:43:57.599275Z"
    }
   },
   "outputs": [],
   "source": [
    "from sklearn.model_selection import train_test_split\n",
    "X = data_breast_cancer.data[:, [1, 8]]\n",
    "y = data_breast_cancer.target\n",
    "X_train, X_test, y_train, y_test = train_test_split(X, y, test_size=0.2, random_state=42)"
   ]
  },
  {
   "cell_type": "code",
   "execution_count": 3,
   "id": "da718d616d95a5ed",
   "metadata": {
    "collapsed": false,
    "ExecuteTime": {
     "end_time": "2024-04-16T10:43:57.708658Z",
     "start_time": "2024-04-16T10:43:57.614005Z"
    }
   },
   "outputs": [
    {
     "name": "stdout",
     "output_type": "stream",
     "text": [
      "0.6929824561403509\n",
      "0.6666666666666666\n"
     ]
    }
   ],
   "source": [
    "from sklearn.metrics import accuracy_score\n",
    "from sklearn.linear_model import LogisticRegression\n",
    "from sklearn.tree import DecisionTreeClassifier\n",
    "\n",
    "tree_clf = DecisionTreeClassifier()\n",
    "log_clf = LogisticRegression()\n",
    "knn_clf = KNeighborsClassifier()\n",
    "\n",
    "voting_clf_hard = VotingClassifier(estimators=[('treecl', tree_clf), ('logcl', log_clf), ('knncl', knn_clf)], voting='hard')\n",
    "voting_clf_soft = VotingClassifier(estimators=[('treecl', tree_clf), ('logcl', log_clf), ('knncl', knn_clf)], voting='soft')\n",
    "\n",
    "voting_clf_hard.fit(X_train, y_train)\n",
    "accuracy_vclf_hard = accuracy_score(y_test, voting_clf_hard.predict(X_test))\n",
    "print(accuracy_vclf_hard)\n",
    "\n",
    "voting_clf_soft.fit(X_train, y_train)\n",
    "accuracy_vclf_soft = accuracy_score(y_test, voting_clf_soft.predict(X_test))\n",
    "print(accuracy_vclf_soft)"
   ]
  },
  {
   "cell_type": "code",
   "execution_count": 4,
   "id": "ba903aef721555bf",
   "metadata": {
    "collapsed": false,
    "ExecuteTime": {
     "end_time": "2024-04-16T10:43:57.849325Z",
     "start_time": "2024-04-16T10:43:57.710875Z"
    }
   },
   "outputs": [
    {
     "name": "stdout",
     "output_type": "stream",
     "text": [
      "[(1.0, 0.631578947368421), (0.7230769230769231, 0.7017543859649122), (0.7714285714285715, 0.6403508771929824), (0.8351648351648352, 0.6929824561403509), (0.9648351648351648, 0.6666666666666666)]\n"
     ]
    }
   ],
   "source": [
    "tree_clf.fit(X_train, y_train)\n",
    "log_clf.fit(X_train, y_train)\n",
    "knn_clf.fit(X_train, y_train)\n",
    "\n",
    "first_pkl = [(tree_clf.score(X_train, y_train), tree_clf.score(X_test, y_test)),\n",
    "             (log_clf.score(X_train, y_train), log_clf.score(X_test, y_test)),\n",
    "             (knn_clf.score(X_train, y_train), knn_clf.score(X_test, y_test)),\n",
    "             (voting_clf_hard.score(X_train, y_train), voting_clf_hard.score(X_test, y_test)),\n",
    "             (voting_clf_soft.score(X_train, y_train), voting_clf_soft.score(X_test, y_test))]\n",
    "\n",
    "print(first_pkl)\n",
    "\n",
    "import pickle\n",
    "with open(\"acc_vote.pkl\", \"wb\") as file:\n",
    "    pickle.dump(first_pkl,file)"
   ]
  },
  {
   "cell_type": "code",
   "execution_count": 5,
   "id": "3c34aa14d738eff8",
   "metadata": {
    "collapsed": false,
    "ExecuteTime": {
     "end_time": "2024-04-16T10:43:57.861303Z",
     "start_time": "2024-04-16T10:43:57.853135Z"
    }
   },
   "outputs": [],
   "source": [
    "clfs = [tree_clf, log_clf, knn_clf, voting_clf_hard, voting_clf_soft]\n",
    "with open(\"vote.pkl\", \"wb\") as file:\n",
    "    pickle.dump(clfs, file)"
   ]
  },
  {
   "cell_type": "code",
   "execution_count": 6,
   "id": "f130fa57b67eeb20",
   "metadata": {
    "collapsed": false,
    "ExecuteTime": {
     "end_time": "2024-04-16T10:43:58.699553Z",
     "start_time": "2024-04-16T10:43:57.863371Z"
    }
   },
   "outputs": [
    {
     "name": "stdout",
     "output_type": "stream",
     "text": [
      "0.9956043956043956 0.6754385964912281\n"
     ]
    },
    {
     "name": "stderr",
     "output_type": "stream",
     "text": [
      "C:\\Users\\wiech\\PycharmProjects\\um\\.venv\\Lib\\site-packages\\sklearn\\ensemble\\_weight_boosting.py:519: FutureWarning: The SAMME.R algorithm (the default) is deprecated and will be removed in 1.6. Use the SAMME algorithm to circumvent this warning.\n",
      "  warnings.warn(\n"
     ]
    }
   ],
   "source": [
    "from sklearn.ensemble import BaggingClassifier\n",
    "bagging_pickel = []\n",
    "bag_clf = BaggingClassifier(DecisionTreeClassifier(), n_estimators=30, bootstrap=True, random_state=42)\n",
    "bag_clf.fit(X_train, y_train)\n",
    "train_accuracy = bag_clf.score(X_train, y_train)\n",
    "test_accuracy = bag_clf.score(X_test, y_test)\n",
    "print(train_accuracy, test_accuracy)\n",
    "bagging_pickel.append((train_accuracy, test_accuracy))\n",
    "\n",
    "bag_clf_half = BaggingClassifier(DecisionTreeClassifier(), n_estimators=30, bootstrap=True, max_samples=0.5, random_state=42)\n",
    "bag_clf_half.fit(X_train, y_train)\n",
    "train_accuracy_h = bag_clf_half.score(X_train, y_train)\n",
    "test_accuracy_h = bag_clf_half.score(X_test, y_test)\n",
    "bagging_pickel.append((train_accuracy_h, test_accuracy_h))\n",
    "\n",
    "pas_clf = BaggingClassifier(DecisionTreeClassifier(), n_estimators=30, bootstrap=False, random_state=42)\n",
    "pas_clf.fit(X_train, y_train)\n",
    "train_accuracy_pas = pas_clf.score(X_train, y_train)\n",
    "test_accuracy_pas = pas_clf.score(X_test, y_test)\n",
    "bagging_pickel.append((train_accuracy_pas, test_accuracy_pas))\n",
    "\n",
    "pas_clf_half = BaggingClassifier(DecisionTreeClassifier(), n_estimators=30, bootstrap=False, max_samples=0.5, random_state=42)\n",
    "pas_clf_half.fit(X_train, y_train)\n",
    "train_accuracy_pas_h = pas_clf_half.score(X_train, y_train)\n",
    "test_accuracy_pas_h = pas_clf_half.score(X_test, y_test)\n",
    "bagging_pickel.append((train_accuracy_pas_h, test_accuracy_pas_h))\n",
    "\n",
    "rand_forest_clf = RandomForestClassifier(n_estimators=30, random_state=42)\n",
    "rand_forest_clf.fit(X_train, y_train)\n",
    "forest_accuracy_train = rand_forest_clf.score(X_train, y_train)\n",
    "forest_accuracy_test = rand_forest_clf.score(X_test, y_test)\n",
    "bagging_pickel.append((forest_accuracy_train, forest_accuracy_test))\n",
    "\n",
    "ada_clf = AdaBoostClassifier(n_estimators=30, random_state=42)\n",
    "ada_clf.fit(X_train, y_train)\n",
    "ada_acc_train = ada_clf.score(X_train, y_train)\n",
    "ada_acc_test = ada_clf.score(X_test, y_test)\n",
    "bagging_pickel.append((ada_acc_train, ada_acc_test))\n",
    "\n",
    "grad_clf = GradientBoostingClassifier(n_estimators=30, random_state=42)\n",
    "grad_clf.fit(X_train,y_train)\n",
    "grad_acc_train = grad_clf.score(X_train,y_train)\n",
    "grad_acc_test = grad_clf.score(X_test, y_test)\n",
    "bagging_pickel.append((grad_acc_train, grad_acc_test))\n",
    "\n",
    "with open(\"acc_bag.pkl\", \"wb\") as file:\n",
    "    pickle.dump(bagging_pickel, file)\n",
    "    \n",
    "with open(\"bag.pkl\", \"wb\") as file:\n",
    "    pickle.dump([bag_clf, bag_clf_half, pas_clf, pas_clf_half, rand_forest_clf, ada_clf, grad_clf], file)\n"
   ]
  },
  {
   "cell_type": "code",
   "execution_count": 7,
   "id": "96b8704373bae2ec",
   "metadata": {
    "collapsed": false,
    "ExecuteTime": {
     "end_time": "2024-04-16T10:43:58.846284Z",
     "start_time": "2024-04-16T10:43:58.701743Z"
    }
   },
   "outputs": [],
   "source": [
    "X_all = data_breast_cancer.data\n",
    "y_all = data_breast_cancer.target\n",
    "\n",
    "X_train, X_test, y_train, y_test = train_test_split(X_all, y_all, test_size=0.2, random_state=42)\n",
    "bag_clf_random = BaggingClassifier(n_estimators=30, max_features=2, max_samples=0.5)\n",
    "\n",
    "bag_clf_random.fit(X_train, y_train)\n",
    "train_accuracy_rand = bag_clf_random.score(X_train, y_train)\n",
    "test_accuracy_rand = bag_clf_random.score(X_test, y_test)\n",
    "\n",
    "with open(\"acc_fea.pkl\", \"wb\") as file:\n",
    "    pickle.dump([train_accuracy_rand, test_accuracy_rand], file)\n",
    "\n",
    "with open(\"fea.pkl\", \"wb\") as file:\n",
    "    pickle.dump([bag_clf_random], file)"
   ]
  },
  {
   "cell_type": "code",
   "execution_count": 8,
   "id": "ade8fd35b38eae32",
   "metadata": {
    "collapsed": false,
    "ExecuteTime": {
     "end_time": "2024-04-16T10:43:59.727271Z",
     "start_time": "2024-04-16T10:43:58.849047Z"
    }
   },
   "outputs": [],
   "source": [
    "import numpy as np\n",
    "import pandas as pd\n",
    "\n",
    "results = []\n",
    "selected_features = np.random.choice(range(X_train.shape[1]), size=2, replace=False)\n",
    "X_train_selected = X_train[:, selected_features]\n",
    "X_test_selected = X_test[:, selected_features]\n",
    "\n",
    "for i, estimator in enumerate(bag_clf_random.estimators_):\n",
    "    train_accuracy = estimator.score(X_train_selected, y_train)\n",
    "\n",
    "    test_accuracy = estimator.score(X_test_selected, y_test)\n",
    "\n",
    "    selected_features = [data_breast_cancer.feature_names[f] for f in bag_clf_random.estimators_features_[i]]\n",
    "\n",
    "    results.append((train_accuracy, test_accuracy, selected_features))\n",
    "\n",
    "df_results = pd.DataFrame(results,\n",
    "                          columns=['Dokładność dla zbioru uczącego', 'Dokładność dla zbioru testującego', 'Wybrane cechy'])\n",
    "\n",
    "df_results_sorted = df_results.sort_values(by=['Dokładność dla zbioru testującego', 'Dokładność dla zbioru uczącego'],\n",
    "                                           ascending=False)\n",
    "\n",
    "with open('acc_fea_rank.pkl', 'wb') as f:\n",
    "    pickle.dump(df_results_sorted, f)"
   ]
  },
  {
   "cell_type": "code",
   "outputs": [],
   "source": [],
   "metadata": {
    "collapsed": false,
    "ExecuteTime": {
     "end_time": "2024-04-16T10:43:59.733308Z",
     "start_time": "2024-04-16T10:43:59.729496Z"
    }
   },
   "id": "b0e52b5b1ab7c0e",
   "execution_count": 8
  }
 ],
 "metadata": {
  "kernelspec": {
   "display_name": "Python 3 (ipykernel)",
   "language": "python",
   "name": "python3"
  },
  "language_info": {
   "codemirror_mode": {
    "name": "ipython",
    "version": 3
   },
   "file_extension": ".py",
   "mimetype": "text/x-python",
   "name": "python",
   "nbconvert_exporter": "python",
   "pygments_lexer": "ipython3",
   "version": "3.12.0"
  }
 },
 "nbformat": 4,
 "nbformat_minor": 5
}
