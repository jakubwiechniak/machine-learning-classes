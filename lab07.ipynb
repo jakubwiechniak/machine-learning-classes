{
 "cells": [
  {
   "cell_type": "code",
   "execution_count": 1,
   "id": "initial_id",
   "metadata": {
    "ExecuteTime": {
     "end_time": "2024-04-23T09:38:10.734078Z",
     "start_time": "2024-04-23T09:37:55.130235Z"
    },
    "collapsed": true,
    "jupyter": {
     "outputs_hidden": true
    }
   },
   "outputs": [],
   "source": [
    "from sklearn.datasets import fetch_openml\n",
    "import numpy as np\n",
    "mnist = fetch_openml('mnist_784', version=1, as_frame=False, parser='auto')\n",
    "mnist.target = mnist.target.astype(np.uint8)\n",
    "X=mnist[\"data\"]\n",
    "y=mnist[\"target\"]"
   ]
  },
  {
   "cell_type": "code",
   "execution_count": 6,
   "id": "a64bcc4c0a1ad03e",
   "metadata": {
    "ExecuteTime": {
     "end_time": "2024-04-23T10:13:22.877134Z",
     "start_time": "2024-04-23T09:59:42.883921Z"
    },
    "collapsed": false,
    "jupyter": {
     "outputs_hidden": false
    }
   },
   "outputs": [],
   "source": [
    "import matplotlib.pyplot as plt\n",
    "from sklearn.cluster import KMeans\n",
    "from sklearn.metrics import silhouette_score\n",
    "import pickle\n",
    "# def plot_clusters(X, y=None):\n",
    "#     plt.scatter(X[:, 0], X[:, 1], c=y , s=1)\n",
    "#     plt.xlabel(\"$x_1$\", fontsize=14)\n",
    "#     plt.ylabel(\"$x_2$\", fontsize=14, rotation=0)\n",
    "# \n",
    "# plt.figure(figsize=(8, 4))\n",
    "# plot_clusters(X,y) # zobaczmy skupiska\n",
    "# f = 'blobs_plot.png'\n",
    "# plt.savefig(f)\n",
    "# print(f)\n",
    "silhouette_scores = []\n",
    "for i in [8, 9, 10, 11, 12]:\n",
    "    kmeans = KMeans(n_clusters=i, n_init=10, random_state=42)\n",
    "    kmeans.fit(X)\n",
    "    labels = kmeans.labels_\n",
    "    silhouette_ = silhouette_score(X, labels)\n",
    "    silhouette_scores.append(silhouette_)\n",
    "\n",
    "with open('kmeans_sil.pkl', 'wb') as f:\n",
    "    pickle.dump(silhouette_scores, f)\n",
    "    "
   ]
  },
  {
   "cell_type": "code",
   "execution_count": 11,
   "id": "dbbd9bf8b8624f36",
   "metadata": {
    "ExecuteTime": {
     "end_time": "2024-04-23T10:31:28.440933Z",
     "start_time": "2024-04-23T10:30:47.106833Z"
    },
    "collapsed": false,
    "jupyter": {
     "outputs_hidden": false
    }
   },
   "outputs": [
    {
     "name": "stdout",
     "output_type": "stream",
     "text": [
      "[[ 290    2    7  162 1265   72    9    4   39 5053]\n",
      " [   8 4293   11    7    7    8   10 3526    7    0]\n",
      " [ 323  423   78  147  246  201 4863  436  216   57]\n",
      " [4581  449   45   31  460 1083  217   58  193   24]\n",
      " [   0  178 2173  168  288   17   29  234 3728    9]\n",
      " [2129  155  215   67 1812 1156    7  280  432   60]\n",
      " [  38  190    4 4324 2070   14   53   45   67   71]\n",
      " [   6  372 4399    4   12   18   53  314 2094   21]\n",
      " [1212  335  193   51  292 4115   53  330  208   36]\n",
      " [  87  261 2849   16   31   87   19   95 3462   51]]\n",
      "[0, 1, 2, 3, 5, 6, 8, 9]\n"
     ]
    }
   ],
   "source": [
    "from sklearn.metrics import confusion_matrix\n",
    "kmeans = KMeans(n_clusters=10, n_init=10, random_state=42)\n",
    "kmeans.fit(X)\n",
    "conf_mx = confusion_matrix(y, kmeans.predict(X))\n",
    "print(conf_mx)\n",
    "list_of_indexes = []\n",
    "for row in conf_mx:\n",
    "    idx = np.argmax(row)\n",
    "    list_of_indexes.append(idx)\n",
    "print(sorted(set(list_of_indexes)))\n",
    "with open('kmeans_argmax.pkl', 'wb') as f:\n",
    "    pickle.dump(sorted(set(list_of_indexes)), f)"
   ]
  },
  {
   "cell_type": "code",
   "execution_count": 14,
   "id": "24575186e4470d4a",
   "metadata": {
    "ExecuteTime": {
     "end_time": "2024-04-24T03:21:16.993107Z",
     "start_time": "2024-04-24T03:17:45.756355Z"
    },
    "collapsed": false,
    "jupyter": {
     "outputs_hidden": false
    }
   },
   "outputs": [
    {
     "name": "stdout",
     "output_type": "stream",
     "text": [
      "[304.37641170103836, 317.5893575043093, 328.7658741414626, 333.4546445920344, 352.89800226127664, 355.1774204534967, 358.07401469528617, 359.64287842247063, 360.42474942767177]\n"
     ]
    }
   ],
   "source": [
    "from sklearn.cluster import DBSCAN\n",
    "\n",
    "distances = []\n",
    "for i in range(300):\n",
    "    for j in range(len(X)):\n",
    "        dst = np.linalg.norm(X[i] - X[j])\n",
    "        if dst != 0:\n",
    "            distances.append(dst)\n",
    "\n",
    "distances = sorted(distances)\n"
   ]
  },
  {
   "cell_type": "code",
   "execution_count": 15,
   "id": "49f355bd7316c379",
   "metadata": {
    "ExecuteTime": {
     "end_time": "2024-04-24T03:24:04.991153Z",
     "start_time": "2024-04-24T03:24:04.983602Z"
    },
    "collapsed": false,
    "jupyter": {
     "outputs_hidden": false
    }
   },
   "outputs": [],
   "source": [
    "with open('dist.pkl', 'wb') as file:\n",
    "    pickle.dump(distances[:10], file)"
   ]
  },
  {
   "cell_type": "code",
   "execution_count": 16,
   "id": "7f3484e8951c01ce",
   "metadata": {
    "ExecuteTime": {
     "end_time": "2024-04-24T03:24:10.931775Z",
     "start_time": "2024-04-24T03:24:10.914522Z"
    },
    "collapsed": false,
    "jupyter": {
     "outputs_hidden": false
    }
   },
   "outputs": [
    {
     "name": "stdout",
     "output_type": "stream",
     "text": [
      "[279.26152617215286, 304.37641170103836, 317.5893575043093, 328.7658741414626, 333.4546445920344, 352.89800226127664, 355.1774204534967, 358.07401469528617, 359.64287842247063, 360.42474942767177]\n"
     ]
    }
   ],
   "source": [
    "print(distances[:10])"
   ]
  },
  {
   "cell_type": "code",
   "execution_count": 18,
   "id": "6a535181ddd572cf",
   "metadata": {
    "ExecuteTime": {
     "end_time": "2024-04-24T03:28:50.724637Z",
     "start_time": "2024-04-24T03:28:50.717687Z"
    },
    "collapsed": false,
    "jupyter": {
     "outputs_hidden": false
    }
   },
   "outputs": [
    {
     "name": "stdout",
     "output_type": "stream",
     "text": [
      "300.40909845916684\n",
      "[300.40909845916684, 312.4254623975335, 324.92248089343485]\n"
     ]
    }
   ],
   "source": [
    "avg_distance = sum(distances[:3])/3\n",
    "print(avg_distance)\n",
    "s = avg_distance\n",
    "eps_vals = []\n",
    "while s <= avg_distance+(avg_distance*0.1):\n",
    "    eps_vals.append(s)\n",
    "    s = s + (s*0.04)\n",
    "\n",
    "print(eps_vals)"
   ]
  },
  {
   "cell_type": "code",
   "execution_count": 20,
   "id": "3749599662461655",
   "metadata": {
    "ExecuteTime": {
     "end_time": "2024-04-24T03:38:25.598146Z",
     "start_time": "2024-04-24T03:33:57.287879Z"
    },
    "collapsed": false,
    "jupyter": {
     "outputs_hidden": false
    }
   },
   "outputs": [
    {
     "name": "stdout",
     "output_type": "stream",
     "text": [
      "[4, 7, 23]\n"
     ]
    }
   ],
   "source": [
    "unique_labels = []\n",
    "for e in eps_vals:\n",
    "    dbscan = DBSCAN(eps=e, min_samples=5)\n",
    "    dbscan.fit(X)\n",
    "    unique_labels.append(len(set(dbscan.labels_)))\n",
    "\n",
    "print(unique_labels)"
   ]
  },
  {
   "cell_type": "code",
   "execution_count": 21,
   "id": "93b7929c3506a40",
   "metadata": {
    "ExecuteTime": {
     "end_time": "2024-04-24T03:41:13.378832Z",
     "start_time": "2024-04-24T03:41:13.373646Z"
    },
    "collapsed": false,
    "jupyter": {
     "outputs_hidden": false
    }
   },
   "outputs": [],
   "source": [
    "with open('dbscan_len.pkl', 'wb') as file:\n",
    "    pickle.dump(unique_labels, file)"
   ]
  },
  {
   "cell_type": "code",
   "execution_count": null,
   "id": "74ccfde8da0e3981",
   "metadata": {
    "collapsed": false,
    "jupyter": {
     "outputs_hidden": false
    }
   },
   "outputs": [],
   "source": []
  }
 ],
 "metadata": {
  "kernelspec": {
   "display_name": "Python 3 (ipykernel)",
   "language": "python",
   "name": "python3"
  },
  "language_info": {
   "codemirror_mode": {
    "name": "ipython",
    "version": 3
   },
   "file_extension": ".py",
   "mimetype": "text/x-python",
   "name": "python",
   "nbconvert_exporter": "python",
   "pygments_lexer": "ipython3",
   "version": "3.12.0"
  }
 },
 "nbformat": 4,
 "nbformat_minor": 5
}
