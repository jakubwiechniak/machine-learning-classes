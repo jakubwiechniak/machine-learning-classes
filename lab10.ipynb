{
 "cells": [
  {
   "cell_type": "code",
   "execution_count": 27,
   "id": "initial_id",
   "metadata": {
    "ExecuteTime": {
     "end_time": "2024-05-21T10:59:30.415268Z",
     "start_time": "2024-05-21T10:59:30.381438Z"
    },
    "collapsed": true,
    "jupyter": {
     "outputs_hidden": true
    }
   },
   "outputs": [],
   "source": [
    "from sklearn.datasets import fetch_california_housing\n",
    "from sklearn.model_selection import train_test_split\n",
    "from sklearn.preprocessing import StandardScaler\n",
    "housing = fetch_california_housing()\n",
    "X_train_full, X_test, y_train_full, y_test = train_test_split(housing.data, housing.target, random_state=42)\n",
    "X_train, X_valid, y_train, y_valid = train_test_split(X_train_full, y_train_full, random_state=42)\n",
    "scaler = StandardScaler()\n",
    "X_train = scaler.fit_transform(X_train)\n",
    "X_valid = scaler.transform(X_valid)\n",
    "X_test = scaler.transform(X_test)\n"
   ]
  },
  {
   "cell_type": "code",
   "execution_count": 28,
   "id": "d224a2f993678ebc",
   "metadata": {
    "ExecuteTime": {
     "end_time": "2024-05-21T10:59:30.427651Z",
     "start_time": "2024-05-21T10:59:30.418613Z"
    },
    "collapsed": false,
    "jupyter": {
     "outputs_hidden": false
    }
   },
   "outputs": [],
   "source": [
    "import numpy as np\n",
    "from scipy.stats import reciprocal\n",
    "param_distribs = {\n",
    "    \"model__n_hidden\": [0, 1, 2, 3],\n",
    "    \"model__n_neurons\": np.arange(1, 101),\n",
    "    \"model__learning_rate\": reciprocal(3e-4, 3e-2).rvs(1000).tolist(),\n",
    "    \"model__optimizer\": [\"adam\", \"sgd\", \"nesterov\"]\n",
    "}\n"
   ]
  },
  {
   "cell_type": "code",
   "execution_count": 29,
   "id": "e675db66ae5d23eb",
   "metadata": {
    "ExecuteTime": {
     "end_time": "2024-05-21T10:59:30.439152Z",
     "start_time": "2024-05-21T10:59:30.429939Z"
    },
    "collapsed": false,
    "jupyter": {
     "outputs_hidden": false
    }
   },
   "outputs": [],
   "source": [
    "import tensorflow as tf\n",
    "def build_model(n_hidden, n_neurons, optimizer, learning_rate):\n",
    "    model = tf.keras.models.Sequential()\n",
    "    model.add(tf.keras.layers.InputLayer(input_shape=X_train.shape[1:]))\n",
    "    for layer in range(n_hidden):\n",
    "        model.add(tf.keras.layers.Dense(n_neurons, activation=\"relu\"))\n",
    "    model.add(tf.keras.layers.Dense(1))\n",
    "    if optimizer == \"adam\":\n",
    "        optimizer = tf.keras.optimizers.Adam(learning_rate=learning_rate)\n",
    "    elif optimizer == \"sgd\":\n",
    "        optimizer = tf.keras.optimizers.SGD(learning_rate=learning_rate)\n",
    "    elif optimizer == \"nesterov\":\n",
    "        optimizer = tf.keras.optimizers.nesterov(learning_rate=learning_rate)\n",
    "    model.compile(loss=\"mse\", optimizer=optimizer)\n",
    "    return model\n"
   ]
  },
  {
   "cell_type": "code",
   "execution_count": 30,
   "id": "2147fc43e0330c26",
   "metadata": {
    "ExecuteTime": {
     "end_time": "2024-05-21T10:59:30.449093Z",
     "start_time": "2024-05-21T10:59:30.442609Z"
    },
    "collapsed": false,
    "jupyter": {
     "outputs_hidden": false
    }
   },
   "outputs": [],
   "source": [
    "import scikeras\n",
    "from scikeras.wrappers import KerasRegressor\n",
    "es = tf.keras.callbacks.EarlyStopping(patience=10, min_delta=1.0, verbose=1)\n",
    "keras_reg = KerasRegressor(build_model, callbacks=[es])\n",
    "\n"
   ]
  },
  {
   "cell_type": "code",
   "execution_count": 31,
   "id": "45df805dab081e9f",
   "metadata": {
    "ExecuteTime": {
     "end_time": "2024-05-21T11:00:29.994759Z",
     "start_time": "2024-05-21T10:59:30.451640Z"
    },
    "collapsed": false,
    "jupyter": {
     "outputs_hidden": false
    }
   },
   "outputs": [
    {
     "name": "stdout",
     "output_type": "stream",
     "text": [
      "Fitting 3 folds for each of 5 candidates, totalling 15 fits\n"
     ]
    },
    {
     "name": "stderr",
     "output_type": "stream",
     "text": [
      "C:\\Users\\wiech\\PycharmProjects\\um\\.venv\\Lib\\site-packages\\keras\\src\\layers\\core\\input_layer.py:25: UserWarning: Argument `input_shape` is deprecated. Use `shape` instead.\n",
      "  warnings.warn(\n"
     ]
    },
    {
     "name": "stdout",
     "output_type": "stream",
     "text": [
      "Epoch 12: early stopping\n",
      "\u001b[1m121/121\u001b[0m \u001b[32m━━━━━━━━━━━━━━━━━━━━\u001b[0m\u001b[37m\u001b[0m \u001b[1m0s\u001b[0m 2ms/step\n",
      "[CV] END model__learning_rate=0.0010437567420982197, model__n_hidden=3, model__n_neurons=28, model__optimizer=adam; total time=   9.4s\n"
     ]
    },
    {
     "name": "stderr",
     "output_type": "stream",
     "text": [
      "C:\\Users\\wiech\\PycharmProjects\\um\\.venv\\Lib\\site-packages\\keras\\src\\layers\\core\\input_layer.py:25: UserWarning: Argument `input_shape` is deprecated. Use `shape` instead.\n",
      "  warnings.warn(\n"
     ]
    },
    {
     "name": "stdout",
     "output_type": "stream",
     "text": [
      "Epoch 11: early stopping\n",
      "\u001b[1m121/121\u001b[0m \u001b[32m━━━━━━━━━━━━━━━━━━━━\u001b[0m\u001b[37m\u001b[0m \u001b[1m0s\u001b[0m 2ms/step\n",
      "[CV] END model__learning_rate=0.0010437567420982197, model__n_hidden=3, model__n_neurons=28, model__optimizer=adam; total time=   8.4s\n"
     ]
    },
    {
     "name": "stderr",
     "output_type": "stream",
     "text": [
      "C:\\Users\\wiech\\PycharmProjects\\um\\.venv\\Lib\\site-packages\\keras\\src\\layers\\core\\input_layer.py:25: UserWarning: Argument `input_shape` is deprecated. Use `shape` instead.\n",
      "  warnings.warn(\n"
     ]
    },
    {
     "name": "stdout",
     "output_type": "stream",
     "text": [
      "Epoch 12: early stopping\n",
      "\u001b[1m121/121\u001b[0m \u001b[32m━━━━━━━━━━━━━━━━━━━━\u001b[0m\u001b[37m\u001b[0m \u001b[1m0s\u001b[0m 2ms/step\n",
      "[CV] END model__learning_rate=0.0010437567420982197, model__n_hidden=3, model__n_neurons=28, model__optimizer=adam; total time=   8.9s\n",
      "[CV] END model__learning_rate=0.0008704931910463394, model__n_hidden=1, model__n_neurons=46, model__optimizer=nesterov; total time=   0.0s\n",
      "[CV] END model__learning_rate=0.0008704931910463394, model__n_hidden=1, model__n_neurons=46, model__optimizer=nesterov; total time=   0.0s\n",
      "[CV] END model__learning_rate=0.0008704931910463394, model__n_hidden=1, model__n_neurons=46, model__optimizer=nesterov; total time=   0.0s\n"
     ]
    },
    {
     "name": "stderr",
     "output_type": "stream",
     "text": [
      "C:\\Users\\wiech\\PycharmProjects\\um\\.venv\\Lib\\site-packages\\keras\\src\\layers\\core\\input_layer.py:25: UserWarning: Argument `input_shape` is deprecated. Use `shape` instead.\n",
      "  warnings.warn(\n",
      "C:\\Users\\wiech\\PycharmProjects\\um\\.venv\\Lib\\site-packages\\keras\\src\\layers\\core\\input_layer.py:25: UserWarning: Argument `input_shape` is deprecated. Use `shape` instead.\n",
      "  warnings.warn(\n",
      "C:\\Users\\wiech\\PycharmProjects\\um\\.venv\\Lib\\site-packages\\keras\\src\\layers\\core\\input_layer.py:25: UserWarning: Argument `input_shape` is deprecated. Use `shape` instead.\n",
      "  warnings.warn(\n",
      "C:\\Users\\wiech\\PycharmProjects\\um\\.venv\\Lib\\site-packages\\keras\\src\\layers\\core\\input_layer.py:25: UserWarning: Argument `input_shape` is deprecated. Use `shape` instead.\n",
      "  warnings.warn(\n"
     ]
    },
    {
     "name": "stdout",
     "output_type": "stream",
     "text": [
      "Epoch 12: early stopping\n",
      "\u001b[1m121/121\u001b[0m \u001b[32m━━━━━━━━━━━━━━━━━━━━\u001b[0m\u001b[37m\u001b[0m \u001b[1m0s\u001b[0m 2ms/step\n",
      "[CV] END model__learning_rate=0.0021463386114947696, model__n_hidden=2, model__n_neurons=48, model__optimizer=sgd; total time=   7.2s\n"
     ]
    },
    {
     "name": "stderr",
     "output_type": "stream",
     "text": [
      "C:\\Users\\wiech\\PycharmProjects\\um\\.venv\\Lib\\site-packages\\keras\\src\\layers\\core\\input_layer.py:25: UserWarning: Argument `input_shape` is deprecated. Use `shape` instead.\n",
      "  warnings.warn(\n"
     ]
    },
    {
     "name": "stdout",
     "output_type": "stream",
     "text": [
      "Epoch 12: early stopping\n",
      "\u001b[1m121/121\u001b[0m \u001b[32m━━━━━━━━━━━━━━━━━━━━\u001b[0m\u001b[37m\u001b[0m \u001b[1m0s\u001b[0m 2ms/step\n",
      "[CV] END model__learning_rate=0.0021463386114947696, model__n_hidden=2, model__n_neurons=48, model__optimizer=sgd; total time=   7.0s\n"
     ]
    },
    {
     "name": "stderr",
     "output_type": "stream",
     "text": [
      "C:\\Users\\wiech\\PycharmProjects\\um\\.venv\\Lib\\site-packages\\keras\\src\\layers\\core\\input_layer.py:25: UserWarning: Argument `input_shape` is deprecated. Use `shape` instead.\n",
      "  warnings.warn(\n"
     ]
    },
    {
     "name": "stdout",
     "output_type": "stream",
     "text": [
      "Epoch 12: early stopping\n",
      "\u001b[1m121/121\u001b[0m \u001b[32m━━━━━━━━━━━━━━━━━━━━\u001b[0m\u001b[37m\u001b[0m \u001b[1m0s\u001b[0m 2ms/step\n",
      "[CV] END model__learning_rate=0.0021463386114947696, model__n_hidden=2, model__n_neurons=48, model__optimizer=sgd; total time=   6.9s\n",
      "[CV] END model__learning_rate=0.007550946627077045, model__n_hidden=3, model__n_neurons=72, model__optimizer=nesterov; total time=   0.0s\n",
      "[CV] END model__learning_rate=0.007550946627077045, model__n_hidden=3, model__n_neurons=72, model__optimizer=nesterov; total time=   0.0s\n",
      "[CV] END model__learning_rate=0.007550946627077045, model__n_hidden=3, model__n_neurons=72, model__optimizer=nesterov; total time=   0.0s\n",
      "[CV] END model__learning_rate=0.0035928053231334377, model__n_hidden=2, model__n_neurons=6, model__optimizer=nesterov; total time=   0.0s\n"
     ]
    },
    {
     "name": "stderr",
     "output_type": "stream",
     "text": [
      "C:\\Users\\wiech\\PycharmProjects\\um\\.venv\\Lib\\site-packages\\keras\\src\\layers\\core\\input_layer.py:25: UserWarning: Argument `input_shape` is deprecated. Use `shape` instead.\n",
      "  warnings.warn(\n",
      "C:\\Users\\wiech\\PycharmProjects\\um\\.venv\\Lib\\site-packages\\keras\\src\\layers\\core\\input_layer.py:25: UserWarning: Argument `input_shape` is deprecated. Use `shape` instead.\n",
      "  warnings.warn(\n",
      "C:\\Users\\wiech\\PycharmProjects\\um\\.venv\\Lib\\site-packages\\keras\\src\\layers\\core\\input_layer.py:25: UserWarning: Argument `input_shape` is deprecated. Use `shape` instead.\n",
      "  warnings.warn(\n",
      "C:\\Users\\wiech\\PycharmProjects\\um\\.venv\\Lib\\site-packages\\keras\\src\\layers\\core\\input_layer.py:25: UserWarning: Argument `input_shape` is deprecated. Use `shape` instead.\n",
      "  warnings.warn(\n"
     ]
    },
    {
     "name": "stdout",
     "output_type": "stream",
     "text": [
      "[CV] END model__learning_rate=0.0035928053231334377, model__n_hidden=2, model__n_neurons=6, model__optimizer=nesterov; total time=   0.0s\n",
      "[CV] END model__learning_rate=0.0035928053231334377, model__n_hidden=2, model__n_neurons=6, model__optimizer=nesterov; total time=   0.0s\n"
     ]
    },
    {
     "name": "stderr",
     "output_type": "stream",
     "text": [
      "C:\\Users\\wiech\\PycharmProjects\\um\\.venv\\Lib\\site-packages\\keras\\src\\layers\\core\\input_layer.py:25: UserWarning: Argument `input_shape` is deprecated. Use `shape` instead.\n",
      "  warnings.warn(\n",
      "C:\\Users\\wiech\\PycharmProjects\\um\\.venv\\Lib\\site-packages\\keras\\src\\layers\\core\\input_layer.py:25: UserWarning: Argument `input_shape` is deprecated. Use `shape` instead.\n",
      "  warnings.warn(\n",
      "C:\\Users\\wiech\\PycharmProjects\\um\\.venv\\Lib\\site-packages\\sklearn\\model_selection\\_validation.py:547: FitFailedWarning: \n",
      "9 fits failed out of a total of 15.\n",
      "The score on these train-test partitions for these parameters will be set to nan.\n",
      "If these failures are not expected, you can try to debug them by setting error_score='raise'.\n",
      "\n",
      "Below are more details about the failures:\n",
      "--------------------------------------------------------------------------------\n",
      "9 fits failed with the following error:\n",
      "Traceback (most recent call last):\n",
      "  File \"C:\\Users\\wiech\\PycharmProjects\\um\\.venv\\Lib\\site-packages\\sklearn\\model_selection\\_validation.py\", line 895, in _fit_and_score\n",
      "    estimator.fit(X_train, y_train, **fit_params)\n",
      "  File \"C:\\Users\\wiech\\PycharmProjects\\um\\.venv\\Lib\\site-packages\\scikeras\\wrappers.py\", line 770, in fit\n",
      "    self._fit(\n",
      "  File \"C:\\Users\\wiech\\PycharmProjects\\um\\.venv\\Lib\\site-packages\\scikeras\\wrappers.py\", line 925, in _fit\n",
      "    X, y = self._initialize(X, y)\n",
      "           ^^^^^^^^^^^^^^^^^^^^^^\n",
      "  File \"C:\\Users\\wiech\\PycharmProjects\\um\\.venv\\Lib\\site-packages\\scikeras\\wrappers.py\", line 862, in _initialize\n",
      "    self.model_ = self._build_keras_model()\n",
      "                  ^^^^^^^^^^^^^^^^^^^^^^^^^\n",
      "  File \"C:\\Users\\wiech\\PycharmProjects\\um\\.venv\\Lib\\site-packages\\scikeras\\wrappers.py\", line 433, in _build_keras_model\n",
      "    model = final_build_fn(**build_params)\n",
      "            ^^^^^^^^^^^^^^^^^^^^^^^^^^^^^^\n",
      "  File \"C:\\Users\\wiech\\AppData\\Local\\Temp\\ipykernel_16936\\3242313931.py\", line 13, in build_model\n",
      "    optimizer = tf.keras.optimizers.nesterov(learning_rate=learning_rate)\n",
      "                ^^^^^^^^^^^^^^^^^^^^^^^^^^^^\n",
      "AttributeError: module 'keras.api.optimizers' has no attribute 'nesterov'\n",
      "\n",
      "  warnings.warn(some_fits_failed_message, FitFailedWarning)\n",
      "C:\\Users\\wiech\\PycharmProjects\\um\\.venv\\Lib\\site-packages\\sklearn\\model_selection\\_search.py:1051: UserWarning: One or more of the test scores are non-finite: [0.74885092        nan 0.69560267        nan        nan]\n",
      "  warnings.warn(\n",
      "C:\\Users\\wiech\\PycharmProjects\\um\\.venv\\Lib\\site-packages\\keras\\src\\layers\\core\\input_layer.py:25: UserWarning: Argument `input_shape` is deprecated. Use `shape` instead.\n",
      "  warnings.warn(\n"
     ]
    },
    {
     "name": "stdout",
     "output_type": "stream",
     "text": [
      "Epoch 11: early stopping\n"
     ]
    },
    {
     "data": {
      "text/html": [
       "<style>#sk-container-id-1 {\n",
       "  /* Definition of color scheme common for light and dark mode */\n",
       "  --sklearn-color-text: black;\n",
       "  --sklearn-color-line: gray;\n",
       "  /* Definition of color scheme for unfitted estimators */\n",
       "  --sklearn-color-unfitted-level-0: #fff5e6;\n",
       "  --sklearn-color-unfitted-level-1: #f6e4d2;\n",
       "  --sklearn-color-unfitted-level-2: #ffe0b3;\n",
       "  --sklearn-color-unfitted-level-3: chocolate;\n",
       "  /* Definition of color scheme for fitted estimators */\n",
       "  --sklearn-color-fitted-level-0: #f0f8ff;\n",
       "  --sklearn-color-fitted-level-1: #d4ebff;\n",
       "  --sklearn-color-fitted-level-2: #b3dbfd;\n",
       "  --sklearn-color-fitted-level-3: cornflowerblue;\n",
       "\n",
       "  /* Specific color for light theme */\n",
       "  --sklearn-color-text-on-default-background: var(--sg-text-color, var(--theme-code-foreground, var(--jp-content-font-color1, black)));\n",
       "  --sklearn-color-background: var(--sg-background-color, var(--theme-background, var(--jp-layout-color0, white)));\n",
       "  --sklearn-color-border-box: var(--sg-text-color, var(--theme-code-foreground, var(--jp-content-font-color1, black)));\n",
       "  --sklearn-color-icon: #696969;\n",
       "\n",
       "  @media (prefers-color-scheme: dark) {\n",
       "    /* Redefinition of color scheme for dark theme */\n",
       "    --sklearn-color-text-on-default-background: var(--sg-text-color, var(--theme-code-foreground, var(--jp-content-font-color1, white)));\n",
       "    --sklearn-color-background: var(--sg-background-color, var(--theme-background, var(--jp-layout-color0, #111)));\n",
       "    --sklearn-color-border-box: var(--sg-text-color, var(--theme-code-foreground, var(--jp-content-font-color1, white)));\n",
       "    --sklearn-color-icon: #878787;\n",
       "  }\n",
       "}\n",
       "\n",
       "#sk-container-id-1 {\n",
       "  color: var(--sklearn-color-text);\n",
       "}\n",
       "\n",
       "#sk-container-id-1 pre {\n",
       "  padding: 0;\n",
       "}\n",
       "\n",
       "#sk-container-id-1 input.sk-hidden--visually {\n",
       "  border: 0;\n",
       "  clip: rect(1px 1px 1px 1px);\n",
       "  clip: rect(1px, 1px, 1px, 1px);\n",
       "  height: 1px;\n",
       "  margin: -1px;\n",
       "  overflow: hidden;\n",
       "  padding: 0;\n",
       "  position: absolute;\n",
       "  width: 1px;\n",
       "}\n",
       "\n",
       "#sk-container-id-1 div.sk-dashed-wrapped {\n",
       "  border: 1px dashed var(--sklearn-color-line);\n",
       "  margin: 0 0.4em 0.5em 0.4em;\n",
       "  box-sizing: border-box;\n",
       "  padding-bottom: 0.4em;\n",
       "  background-color: var(--sklearn-color-background);\n",
       "}\n",
       "\n",
       "#sk-container-id-1 div.sk-container {\n",
       "  /* jupyter's `normalize.less` sets `[hidden] { display: none; }`\n",
       "     but bootstrap.min.css set `[hidden] { display: none !important; }`\n",
       "     so we also need the `!important` here to be able to override the\n",
       "     default hidden behavior on the sphinx rendered scikit-learn.org.\n",
       "     See: https://github.com/scikit-learn/scikit-learn/issues/21755 */\n",
       "  display: inline-block !important;\n",
       "  position: relative;\n",
       "}\n",
       "\n",
       "#sk-container-id-1 div.sk-text-repr-fallback {\n",
       "  display: none;\n",
       "}\n",
       "\n",
       "div.sk-parallel-item,\n",
       "div.sk-serial,\n",
       "div.sk-item {\n",
       "  /* draw centered vertical line to link estimators */\n",
       "  background-image: linear-gradient(var(--sklearn-color-text-on-default-background), var(--sklearn-color-text-on-default-background));\n",
       "  background-size: 2px 100%;\n",
       "  background-repeat: no-repeat;\n",
       "  background-position: center center;\n",
       "}\n",
       "\n",
       "/* Parallel-specific style estimator block */\n",
       "\n",
       "#sk-container-id-1 div.sk-parallel-item::after {\n",
       "  content: \"\";\n",
       "  width: 100%;\n",
       "  border-bottom: 2px solid var(--sklearn-color-text-on-default-background);\n",
       "  flex-grow: 1;\n",
       "}\n",
       "\n",
       "#sk-container-id-1 div.sk-parallel {\n",
       "  display: flex;\n",
       "  align-items: stretch;\n",
       "  justify-content: center;\n",
       "  background-color: var(--sklearn-color-background);\n",
       "  position: relative;\n",
       "}\n",
       "\n",
       "#sk-container-id-1 div.sk-parallel-item {\n",
       "  display: flex;\n",
       "  flex-direction: column;\n",
       "}\n",
       "\n",
       "#sk-container-id-1 div.sk-parallel-item:first-child::after {\n",
       "  align-self: flex-end;\n",
       "  width: 50%;\n",
       "}\n",
       "\n",
       "#sk-container-id-1 div.sk-parallel-item:last-child::after {\n",
       "  align-self: flex-start;\n",
       "  width: 50%;\n",
       "}\n",
       "\n",
       "#sk-container-id-1 div.sk-parallel-item:only-child::after {\n",
       "  width: 0;\n",
       "}\n",
       "\n",
       "/* Serial-specific style estimator block */\n",
       "\n",
       "#sk-container-id-1 div.sk-serial {\n",
       "  display: flex;\n",
       "  flex-direction: column;\n",
       "  align-items: center;\n",
       "  background-color: var(--sklearn-color-background);\n",
       "  padding-right: 1em;\n",
       "  padding-left: 1em;\n",
       "}\n",
       "\n",
       "\n",
       "/* Toggleable style: style used for estimator/Pipeline/ColumnTransformer box that is\n",
       "clickable and can be expanded/collapsed.\n",
       "- Pipeline and ColumnTransformer use this feature and define the default style\n",
       "- Estimators will overwrite some part of the style using the `sk-estimator` class\n",
       "*/\n",
       "\n",
       "/* Pipeline and ColumnTransformer style (default) */\n",
       "\n",
       "#sk-container-id-1 div.sk-toggleable {\n",
       "  /* Default theme specific background. It is overwritten whether we have a\n",
       "  specific estimator or a Pipeline/ColumnTransformer */\n",
       "  background-color: var(--sklearn-color-background);\n",
       "}\n",
       "\n",
       "/* Toggleable label */\n",
       "#sk-container-id-1 label.sk-toggleable__label {\n",
       "  cursor: pointer;\n",
       "  display: block;\n",
       "  width: 100%;\n",
       "  margin-bottom: 0;\n",
       "  padding: 0.5em;\n",
       "  box-sizing: border-box;\n",
       "  text-align: center;\n",
       "}\n",
       "\n",
       "#sk-container-id-1 label.sk-toggleable__label-arrow:before {\n",
       "  /* Arrow on the left of the label */\n",
       "  content: \"▸\";\n",
       "  float: left;\n",
       "  margin-right: 0.25em;\n",
       "  color: var(--sklearn-color-icon);\n",
       "}\n",
       "\n",
       "#sk-container-id-1 label.sk-toggleable__label-arrow:hover:before {\n",
       "  color: var(--sklearn-color-text);\n",
       "}\n",
       "\n",
       "/* Toggleable content - dropdown */\n",
       "\n",
       "#sk-container-id-1 div.sk-toggleable__content {\n",
       "  max-height: 0;\n",
       "  max-width: 0;\n",
       "  overflow: hidden;\n",
       "  text-align: left;\n",
       "  /* unfitted */\n",
       "  background-color: var(--sklearn-color-unfitted-level-0);\n",
       "}\n",
       "\n",
       "#sk-container-id-1 div.sk-toggleable__content.fitted {\n",
       "  /* fitted */\n",
       "  background-color: var(--sklearn-color-fitted-level-0);\n",
       "}\n",
       "\n",
       "#sk-container-id-1 div.sk-toggleable__content pre {\n",
       "  margin: 0.2em;\n",
       "  border-radius: 0.25em;\n",
       "  color: var(--sklearn-color-text);\n",
       "  /* unfitted */\n",
       "  background-color: var(--sklearn-color-unfitted-level-0);\n",
       "}\n",
       "\n",
       "#sk-container-id-1 div.sk-toggleable__content.fitted pre {\n",
       "  /* unfitted */\n",
       "  background-color: var(--sklearn-color-fitted-level-0);\n",
       "}\n",
       "\n",
       "#sk-container-id-1 input.sk-toggleable__control:checked~div.sk-toggleable__content {\n",
       "  /* Expand drop-down */\n",
       "  max-height: 200px;\n",
       "  max-width: 100%;\n",
       "  overflow: auto;\n",
       "}\n",
       "\n",
       "#sk-container-id-1 input.sk-toggleable__control:checked~label.sk-toggleable__label-arrow:before {\n",
       "  content: \"▾\";\n",
       "}\n",
       "\n",
       "/* Pipeline/ColumnTransformer-specific style */\n",
       "\n",
       "#sk-container-id-1 div.sk-label input.sk-toggleable__control:checked~label.sk-toggleable__label {\n",
       "  color: var(--sklearn-color-text);\n",
       "  background-color: var(--sklearn-color-unfitted-level-2);\n",
       "}\n",
       "\n",
       "#sk-container-id-1 div.sk-label.fitted input.sk-toggleable__control:checked~label.sk-toggleable__label {\n",
       "  background-color: var(--sklearn-color-fitted-level-2);\n",
       "}\n",
       "\n",
       "/* Estimator-specific style */\n",
       "\n",
       "/* Colorize estimator box */\n",
       "#sk-container-id-1 div.sk-estimator input.sk-toggleable__control:checked~label.sk-toggleable__label {\n",
       "  /* unfitted */\n",
       "  background-color: var(--sklearn-color-unfitted-level-2);\n",
       "}\n",
       "\n",
       "#sk-container-id-1 div.sk-estimator.fitted input.sk-toggleable__control:checked~label.sk-toggleable__label {\n",
       "  /* fitted */\n",
       "  background-color: var(--sklearn-color-fitted-level-2);\n",
       "}\n",
       "\n",
       "#sk-container-id-1 div.sk-label label.sk-toggleable__label,\n",
       "#sk-container-id-1 div.sk-label label {\n",
       "  /* The background is the default theme color */\n",
       "  color: var(--sklearn-color-text-on-default-background);\n",
       "}\n",
       "\n",
       "/* On hover, darken the color of the background */\n",
       "#sk-container-id-1 div.sk-label:hover label.sk-toggleable__label {\n",
       "  color: var(--sklearn-color-text);\n",
       "  background-color: var(--sklearn-color-unfitted-level-2);\n",
       "}\n",
       "\n",
       "/* Label box, darken color on hover, fitted */\n",
       "#sk-container-id-1 div.sk-label.fitted:hover label.sk-toggleable__label.fitted {\n",
       "  color: var(--sklearn-color-text);\n",
       "  background-color: var(--sklearn-color-fitted-level-2);\n",
       "}\n",
       "\n",
       "/* Estimator label */\n",
       "\n",
       "#sk-container-id-1 div.sk-label label {\n",
       "  font-family: monospace;\n",
       "  font-weight: bold;\n",
       "  display: inline-block;\n",
       "  line-height: 1.2em;\n",
       "}\n",
       "\n",
       "#sk-container-id-1 div.sk-label-container {\n",
       "  text-align: center;\n",
       "}\n",
       "\n",
       "/* Estimator-specific */\n",
       "#sk-container-id-1 div.sk-estimator {\n",
       "  font-family: monospace;\n",
       "  border: 1px dotted var(--sklearn-color-border-box);\n",
       "  border-radius: 0.25em;\n",
       "  box-sizing: border-box;\n",
       "  margin-bottom: 0.5em;\n",
       "  /* unfitted */\n",
       "  background-color: var(--sklearn-color-unfitted-level-0);\n",
       "}\n",
       "\n",
       "#sk-container-id-1 div.sk-estimator.fitted {\n",
       "  /* fitted */\n",
       "  background-color: var(--sklearn-color-fitted-level-0);\n",
       "}\n",
       "\n",
       "/* on hover */\n",
       "#sk-container-id-1 div.sk-estimator:hover {\n",
       "  /* unfitted */\n",
       "  background-color: var(--sklearn-color-unfitted-level-2);\n",
       "}\n",
       "\n",
       "#sk-container-id-1 div.sk-estimator.fitted:hover {\n",
       "  /* fitted */\n",
       "  background-color: var(--sklearn-color-fitted-level-2);\n",
       "}\n",
       "\n",
       "/* Specification for estimator info (e.g. \"i\" and \"?\") */\n",
       "\n",
       "/* Common style for \"i\" and \"?\" */\n",
       "\n",
       ".sk-estimator-doc-link,\n",
       "a:link.sk-estimator-doc-link,\n",
       "a:visited.sk-estimator-doc-link {\n",
       "  float: right;\n",
       "  font-size: smaller;\n",
       "  line-height: 1em;\n",
       "  font-family: monospace;\n",
       "  background-color: var(--sklearn-color-background);\n",
       "  border-radius: 1em;\n",
       "  height: 1em;\n",
       "  width: 1em;\n",
       "  text-decoration: none !important;\n",
       "  margin-left: 1ex;\n",
       "  /* unfitted */\n",
       "  border: var(--sklearn-color-unfitted-level-1) 1pt solid;\n",
       "  color: var(--sklearn-color-unfitted-level-1);\n",
       "}\n",
       "\n",
       ".sk-estimator-doc-link.fitted,\n",
       "a:link.sk-estimator-doc-link.fitted,\n",
       "a:visited.sk-estimator-doc-link.fitted {\n",
       "  /* fitted */\n",
       "  border: var(--sklearn-color-fitted-level-1) 1pt solid;\n",
       "  color: var(--sklearn-color-fitted-level-1);\n",
       "}\n",
       "\n",
       "/* On hover */\n",
       "div.sk-estimator:hover .sk-estimator-doc-link:hover,\n",
       ".sk-estimator-doc-link:hover,\n",
       "div.sk-label-container:hover .sk-estimator-doc-link:hover,\n",
       ".sk-estimator-doc-link:hover {\n",
       "  /* unfitted */\n",
       "  background-color: var(--sklearn-color-unfitted-level-3);\n",
       "  color: var(--sklearn-color-background);\n",
       "  text-decoration: none;\n",
       "}\n",
       "\n",
       "div.sk-estimator.fitted:hover .sk-estimator-doc-link.fitted:hover,\n",
       ".sk-estimator-doc-link.fitted:hover,\n",
       "div.sk-label-container:hover .sk-estimator-doc-link.fitted:hover,\n",
       ".sk-estimator-doc-link.fitted:hover {\n",
       "  /* fitted */\n",
       "  background-color: var(--sklearn-color-fitted-level-3);\n",
       "  color: var(--sklearn-color-background);\n",
       "  text-decoration: none;\n",
       "}\n",
       "\n",
       "/* Span, style for the box shown on hovering the info icon */\n",
       ".sk-estimator-doc-link span {\n",
       "  display: none;\n",
       "  z-index: 9999;\n",
       "  position: relative;\n",
       "  font-weight: normal;\n",
       "  right: .2ex;\n",
       "  padding: .5ex;\n",
       "  margin: .5ex;\n",
       "  width: min-content;\n",
       "  min-width: 20ex;\n",
       "  max-width: 50ex;\n",
       "  color: var(--sklearn-color-text);\n",
       "  box-shadow: 2pt 2pt 4pt #999;\n",
       "  /* unfitted */\n",
       "  background: var(--sklearn-color-unfitted-level-0);\n",
       "  border: .5pt solid var(--sklearn-color-unfitted-level-3);\n",
       "}\n",
       "\n",
       ".sk-estimator-doc-link.fitted span {\n",
       "  /* fitted */\n",
       "  background: var(--sklearn-color-fitted-level-0);\n",
       "  border: var(--sklearn-color-fitted-level-3);\n",
       "}\n",
       "\n",
       ".sk-estimator-doc-link:hover span {\n",
       "  display: block;\n",
       "}\n",
       "\n",
       "/* \"?\"-specific style due to the `<a>` HTML tag */\n",
       "\n",
       "#sk-container-id-1 a.estimator_doc_link {\n",
       "  float: right;\n",
       "  font-size: 1rem;\n",
       "  line-height: 1em;\n",
       "  font-family: monospace;\n",
       "  background-color: var(--sklearn-color-background);\n",
       "  border-radius: 1rem;\n",
       "  height: 1rem;\n",
       "  width: 1rem;\n",
       "  text-decoration: none;\n",
       "  /* unfitted */\n",
       "  color: var(--sklearn-color-unfitted-level-1);\n",
       "  border: var(--sklearn-color-unfitted-level-1) 1pt solid;\n",
       "}\n",
       "\n",
       "#sk-container-id-1 a.estimator_doc_link.fitted {\n",
       "  /* fitted */\n",
       "  border: var(--sklearn-color-fitted-level-1) 1pt solid;\n",
       "  color: var(--sklearn-color-fitted-level-1);\n",
       "}\n",
       "\n",
       "/* On hover */\n",
       "#sk-container-id-1 a.estimator_doc_link:hover {\n",
       "  /* unfitted */\n",
       "  background-color: var(--sklearn-color-unfitted-level-3);\n",
       "  color: var(--sklearn-color-background);\n",
       "  text-decoration: none;\n",
       "}\n",
       "\n",
       "#sk-container-id-1 a.estimator_doc_link.fitted:hover {\n",
       "  /* fitted */\n",
       "  background-color: var(--sklearn-color-fitted-level-3);\n",
       "}\n",
       "</style><div id=\"sk-container-id-1\" class=\"sk-top-container\"><div class=\"sk-text-repr-fallback\"><pre>RandomizedSearchCV(cv=3,\n",
       "                   estimator=KerasRegressor(callbacks=[&lt;keras.src.callbacks.early_stopping.EarlyStopping object at 0x000002B316A5F0B0&gt;], model=&lt;function build_model at 0x000002B319192340&gt;),\n",
       "                   n_iter=5,\n",
       "                   param_distributions={&#x27;model__learning_rate&#x27;: [0.00041470399269637567,\n",
       "                                                                 0.006484692350672258,\n",
       "                                                                 0.000853590762142015,\n",
       "                                                                 0.0005649198429540615,\n",
       "                                                                 0.003688140831481964,\n",
       "                                                                 0...\n",
       "                                        &#x27;model__n_neurons&#x27;: array([  1,   2,   3,   4,   5,   6,   7,   8,   9,  10,  11,  12,  13,\n",
       "        14,  15,  16,  17,  18,  19,  20,  21,  22,  23,  24,  25,  26,\n",
       "        27,  28,  29,  30,  31,  32,  33,  34,  35,  36,  37,  38,  39,\n",
       "        40,  41,  42,  43,  44,  45,  46,  47,  48,  49,  50,  51,  52,\n",
       "        53,  54,  55,  56,  57,  58,  59,  60,  61,  62,  63,  64,  65,\n",
       "        66,  67,  68,  69,  70,  71,  72,  73,  74,  75,  76,  77,  78,\n",
       "        79,  80,  81,  82,  83,  84,  85,  86,  87,  88,  89,  90,  91,\n",
       "        92,  93,  94,  95,  96,  97,  98,  99, 100]),\n",
       "                                        &#x27;model__optimizer&#x27;: [&#x27;adam&#x27;, &#x27;sgd&#x27;,\n",
       "                                                             &#x27;nesterov&#x27;]},\n",
       "                   verbose=2)</pre><b>In a Jupyter environment, please rerun this cell to show the HTML representation or trust the notebook. <br />On GitHub, the HTML representation is unable to render, please try loading this page with nbviewer.org.</b></div><div class=\"sk-container\" hidden><div class=\"sk-item sk-dashed-wrapped\"><div class=\"sk-label-container\"><div class=\"sk-label fitted sk-toggleable\"><input class=\"sk-toggleable__control sk-hidden--visually\" id=\"sk-estimator-id-1\" type=\"checkbox\" ><label for=\"sk-estimator-id-1\" class=\"sk-toggleable__label fitted sk-toggleable__label-arrow fitted\">&nbsp;&nbsp;RandomizedSearchCV<a class=\"sk-estimator-doc-link fitted\" rel=\"noreferrer\" target=\"_blank\" href=\"https://scikit-learn.org/1.4/modules/generated/sklearn.model_selection.RandomizedSearchCV.html\">?<span>Documentation for RandomizedSearchCV</span></a><span class=\"sk-estimator-doc-link fitted\">i<span>Fitted</span></span></label><div class=\"sk-toggleable__content fitted\"><pre>RandomizedSearchCV(cv=3,\n",
       "                   estimator=KerasRegressor(callbacks=[&lt;keras.src.callbacks.early_stopping.EarlyStopping object at 0x000002B316A5F0B0&gt;], model=&lt;function build_model at 0x000002B319192340&gt;),\n",
       "                   n_iter=5,\n",
       "                   param_distributions={&#x27;model__learning_rate&#x27;: [0.00041470399269637567,\n",
       "                                                                 0.006484692350672258,\n",
       "                                                                 0.000853590762142015,\n",
       "                                                                 0.0005649198429540615,\n",
       "                                                                 0.003688140831481964,\n",
       "                                                                 0...\n",
       "                                        &#x27;model__n_neurons&#x27;: array([  1,   2,   3,   4,   5,   6,   7,   8,   9,  10,  11,  12,  13,\n",
       "        14,  15,  16,  17,  18,  19,  20,  21,  22,  23,  24,  25,  26,\n",
       "        27,  28,  29,  30,  31,  32,  33,  34,  35,  36,  37,  38,  39,\n",
       "        40,  41,  42,  43,  44,  45,  46,  47,  48,  49,  50,  51,  52,\n",
       "        53,  54,  55,  56,  57,  58,  59,  60,  61,  62,  63,  64,  65,\n",
       "        66,  67,  68,  69,  70,  71,  72,  73,  74,  75,  76,  77,  78,\n",
       "        79,  80,  81,  82,  83,  84,  85,  86,  87,  88,  89,  90,  91,\n",
       "        92,  93,  94,  95,  96,  97,  98,  99, 100]),\n",
       "                                        &#x27;model__optimizer&#x27;: [&#x27;adam&#x27;, &#x27;sgd&#x27;,\n",
       "                                                             &#x27;nesterov&#x27;]},\n",
       "                   verbose=2)</pre></div> </div></div><div class=\"sk-parallel\"><div class=\"sk-parallel-item\"><div class=\"sk-item\"><div class=\"sk-label-container\"><div class=\"sk-label fitted sk-toggleable\"><input class=\"sk-toggleable__control sk-hidden--visually\" id=\"sk-estimator-id-2\" type=\"checkbox\" ><label for=\"sk-estimator-id-2\" class=\"sk-toggleable__label fitted sk-toggleable__label-arrow fitted\">estimator: KerasRegressor</label><div class=\"sk-toggleable__content fitted\"><pre>KerasRegressor(\n",
       "\tmodel=&lt;function build_model at 0x000002B319192340&gt;\n",
       "\tbuild_fn=None\n",
       "\twarm_start=False\n",
       "\trandom_state=None\n",
       "\toptimizer=rmsprop\n",
       "\tloss=None\n",
       "\tmetrics=None\n",
       "\tbatch_size=None\n",
       "\tvalidation_batch_size=None\n",
       "\tverbose=1\n",
       "\tcallbacks=[&lt;keras.src.callbacks.early_stopping.EarlyStopping object at 0x000002B316A5F0B0&gt;]\n",
       "\tvalidation_split=0.0\n",
       "\tshuffle=True\n",
       "\trun_eagerly=False\n",
       "\tepochs=1\n",
       ")</pre></div> </div></div><div class=\"sk-serial\"><div class=\"sk-item\"><div class=\"sk-estimator fitted sk-toggleable\"><input class=\"sk-toggleable__control sk-hidden--visually\" id=\"sk-estimator-id-3\" type=\"checkbox\" ><label for=\"sk-estimator-id-3\" class=\"sk-toggleable__label fitted sk-toggleable__label-arrow fitted\">KerasRegressor</label><div class=\"sk-toggleable__content fitted\"><pre>KerasRegressor(\n",
       "\tmodel=&lt;function build_model at 0x000002B319192340&gt;\n",
       "\tbuild_fn=None\n",
       "\twarm_start=False\n",
       "\trandom_state=None\n",
       "\toptimizer=rmsprop\n",
       "\tloss=None\n",
       "\tmetrics=None\n",
       "\tbatch_size=None\n",
       "\tvalidation_batch_size=None\n",
       "\tverbose=1\n",
       "\tcallbacks=[&lt;keras.src.callbacks.early_stopping.EarlyStopping object at 0x000002B316A5F0B0&gt;]\n",
       "\tvalidation_split=0.0\n",
       "\tshuffle=True\n",
       "\trun_eagerly=False\n",
       "\tepochs=1\n",
       ")</pre></div> </div></div></div></div></div></div></div></div></div>"
      ],
      "text/plain": [
       "RandomizedSearchCV(cv=3,\n",
       "                   estimator=KerasRegressor(callbacks=[<keras.src.callbacks.early_stopping.EarlyStopping object at 0x000002B316A5F0B0>], model=<function build_model at 0x000002B319192340>),\n",
       "                   n_iter=5,\n",
       "                   param_distributions={'model__learning_rate': [0.00041470399269637567,\n",
       "                                                                 0.006484692350672258,\n",
       "                                                                 0.000853590762142015,\n",
       "                                                                 0.0005649198429540615,\n",
       "                                                                 0.003688140831481964,\n",
       "                                                                 0...\n",
       "                                        'model__n_neurons': array([  1,   2,   3,   4,   5,   6,   7,   8,   9,  10,  11,  12,  13,\n",
       "        14,  15,  16,  17,  18,  19,  20,  21,  22,  23,  24,  25,  26,\n",
       "        27,  28,  29,  30,  31,  32,  33,  34,  35,  36,  37,  38,  39,\n",
       "        40,  41,  42,  43,  44,  45,  46,  47,  48,  49,  50,  51,  52,\n",
       "        53,  54,  55,  56,  57,  58,  59,  60,  61,  62,  63,  64,  65,\n",
       "        66,  67,  68,  69,  70,  71,  72,  73,  74,  75,  76,  77,  78,\n",
       "        79,  80,  81,  82,  83,  84,  85,  86,  87,  88,  89,  90,  91,\n",
       "        92,  93,  94,  95,  96,  97,  98,  99, 100]),\n",
       "                                        'model__optimizer': ['adam', 'sgd',\n",
       "                                                             'nesterov']},\n",
       "                   verbose=2)"
      ]
     },
     "execution_count": 31,
     "metadata": {},
     "output_type": "execute_result"
    }
   ],
   "source": [
    "from sklearn.model_selection import RandomizedSearchCV\n",
    "rnd_search_cv = RandomizedSearchCV(keras_reg, param_distribs, n_iter=5, cv=3, verbose=2)\n",
    "rnd_search_cv.fit(X_train, y_train, epochs=100, validation_data=(X_valid, y_valid), verbose=0)\n",
    "\n",
    "\n"
   ]
  },
  {
   "cell_type": "code",
   "execution_count": 32,
   "id": "b813b7c10571d2d7",
   "metadata": {
    "ExecuteTime": {
     "end_time": "2024-05-21T14:55:33.171392Z",
     "start_time": "2024-05-21T14:55:33.160815Z"
    },
    "collapsed": false,
    "jupyter": {
     "outputs_hidden": false
    }
   },
   "outputs": [
    {
     "name": "stdout",
     "output_type": "stream",
     "text": [
      "{'model__n_hidden': [0, 1, 2, 3], 'model__n_neurons': array([  1,   2,   3,   4,   5,   6,   7,   8,   9,  10,  11,  12,  13,\n",
      "        14,  15,  16,  17,  18,  19,  20,  21,  22,  23,  24,  25,  26,\n",
      "        27,  28,  29,  30,  31,  32,  33,  34,  35,  36,  37,  38,  39,\n",
      "        40,  41,  42,  43,  44,  45,  46,  47,  48,  49,  50,  51,  52,\n",
      "        53,  54,  55,  56,  57,  58,  59,  60,  61,  62,  63,  64,  65,\n",
      "        66,  67,  68,  69,  70,  71,  72,  73,  74,  75,  76,  77,  78,\n",
      "        79,  80,  81,  82,  83,  84,  85,  86,  87,  88,  89,  90,  91,\n",
      "        92,  93,  94,  95,  96,  97,  98,  99, 100]), 'model__learning_rate': [0.00041470399269637567, 0.006484692350672258, 0.000853590762142015, 0.0005649198429540615, 0.003688140831481964, 0.006710009644939619, 0.004136288281333359, 0.005582817672725052, 0.0009421837997543064, 0.0005967405881659904, 0.014274438100128163, 0.0007754581220333816, 0.0004985135842238503, 0.004891630772479022, 0.0008242683326895163, 0.0010437567420982197, 0.0004887353381185465, 0.0015645456832272656, 0.0024304835091085264, 0.009440458036256377, 0.0011005504857377001, 0.0035354397829888613, 0.003117162913493762, 0.007767098187046041, 0.0030661441216676393, 0.0011402853161500124, 0.00724109401861077, 0.004698628709695475, 0.0013231768784030134, 0.010056298212144961, 0.01856533870100258, 0.00044481258124343646, 0.017273580389122068, 0.0009355696778811927, 0.002183538945571225, 0.0066210457548096565, 0.017363114589549623, 0.0003690661491701841, 0.0005944111072798071, 0.0023206109348724146, 0.0008670435174395443, 0.025835596182066885, 0.004972170380732575, 0.02718797575383063, 0.001153191684369372, 0.019706356362400628, 0.0027144619943767537, 0.008520659277344377, 0.02873177965059463, 0.0005655133993060028, 0.006718672290740998, 0.0036584294250717004, 0.004939778812528553, 0.0009426132232699726, 0.0023630987811619638, 0.0004389904742678993, 0.0045023039408576574, 0.0022006803299274573, 0.0007397542094556864, 0.022175564436780513, 0.003516109521588059, 0.0003901864616794873, 0.00033366764343920676, 0.0020766479814681655, 0.0006482411626447961, 0.001349876962032073, 0.0016094532509487653, 0.00569328491532297, 0.003736513637693602, 0.001241675845136826, 0.00034971916544677473, 0.002241097890963062, 0.00214669916735364, 0.01744131695815305, 0.00048721018177120434, 0.014314662959500046, 0.0004747675636322613, 0.00405619539591049, 0.021582433767696172, 0.0016753633926373972, 0.012700504510219658, 0.018330045661296916, 0.0260921495638044, 0.02358895303887908, 0.002748055679054866, 0.0022810624932178827, 0.006702175155750045, 0.010347497315910283, 0.019805936979850225, 0.0026156059061796097, 0.0012706581707962073, 0.0005056551183532193, 0.0006578231579622508, 0.002493549414959295, 0.0006659151755321526, 0.00044006785147545496, 0.00037065517029888985, 0.01619904859983612, 0.0022603827472061555, 0.01019155013819595, 0.004170572378700883, 0.01600145172338261, 0.02712051132229999, 0.025913672945714505, 0.002659572874658727, 0.00046225003712792014, 0.0004703393957868863, 0.004548461696620876, 0.011880770118376686, 0.02448380650185055, 0.0005058347101646153, 0.0005951836750029656, 0.013812983599534794, 0.0013083349415066875, 0.00843550086340277, 0.020288054778945117, 0.010416058717829774, 0.017881750377202858, 0.004474423743487091, 0.01770628768882059, 0.0018472730654565679, 0.0003292742275099498, 0.0005570923809927431, 0.00032341266805471346, 0.0003239927069998502, 0.0006685035120329203, 0.0011937653732089191, 0.0006371052516901308, 0.013658764146894415, 0.016350842248891616, 0.00141939929525022, 0.021062912734007698, 0.0022047476138506742, 0.005647086457050547, 0.006449686295639994, 0.024878240644728603, 0.0021293159921955515, 0.0029754510905802486, 0.0006260672684191628, 0.0006324451353813065, 0.005016932046666661, 0.0038427942402721933, 0.001302961363918763, 0.0029428715488585555, 0.0015564215407513284, 0.00043320385634421945, 0.002168311311647425, 0.00046864234331907647, 0.002937868840643529, 0.0011892761776264866, 0.00654054620291162, 0.01627526072952127, 0.0003644829544066752, 0.0009496241195771868, 0.0006760285028653182, 0.013675339868103934, 0.013150911460979029, 0.0038036722453534894, 0.003757999489846633, 0.00035655387211958565, 0.000830548479769392, 0.017645696790170175, 0.011892566299810418, 0.016036057008484646, 0.0007165150204279073, 0.02917952273789982, 0.001173832967634724, 0.0009974523052567541, 0.00775457985110308, 0.0033572973082625977, 0.004527892922874394, 0.01232593084547924, 0.002341664723530967, 0.004771211083825197, 0.014118442989007145, 0.004995374634847065, 0.028901258839095022, 0.006331831619433279, 0.0012678247702366035, 0.004694382105321394, 0.0005707908695716171, 0.010205410480106295, 0.0005946140640191086, 0.0027303017780888495, 0.0006473021414576283, 0.000575688369787407, 0.014838383944917898, 0.02137176998317164, 0.00039084906527815416, 0.0021014475399289997, 0.006452871282789437, 0.003980266087844254, 0.008492477914470976, 0.014827152052588092, 0.0015888927300748803, 0.00047931998623847416, 0.0017100887874071013, 0.000798156806474154, 0.023242757915898915, 0.026632757366629206, 0.009973236038125532, 0.020858704817750963, 0.000550993079763474, 0.0019480503155855818, 0.0012898045044075193, 0.016918679126144615, 0.006400557548523305, 0.0007716157925463872, 0.0005745893361749113, 0.0014810907303462512, 0.00047133924491007397, 0.0036639577288525337, 0.0022481149439105407, 0.0006445669754389022, 0.0008467166373691123, 0.00035976317823242164, 0.0075568367767175765, 0.0005966368140350828, 0.0038573678816916823, 0.00047421682640611066, 0.0020719943569741522, 0.0012505693511106922, 0.005829445821665583, 0.0005253798110891969, 0.009773320037891215, 0.0004991613063808216, 0.001716686834037702, 0.0015588720017884353, 0.0032704243034523952, 0.004359325596701727, 0.0008653758085917276, 0.002991903488246966, 0.0005556407257178594, 0.009139180590565222, 0.021030189796421742, 0.0009458278836719553, 0.0010283125148583467, 0.0030388427156637083, 0.003791709561203119, 0.0058838124797200185, 0.0007059907146082588, 0.009151072247231494, 0.0008186238636437806, 0.013535694270732857, 0.0003306135941207558, 0.00031456239988814143, 0.008038640782680394, 0.004507199185726624, 0.0006201385954032762, 0.004070164095907529, 0.0004968517048042159, 0.0015927121508487836, 0.009355445923792286, 0.004006367650120414, 0.02768414332013687, 0.012821997585424034, 0.011382708608108978, 0.00566072941470724, 0.0006846146852485886, 0.0077411619346609215, 0.005114176466200247, 0.0020116373952357835, 0.000393793959311337, 0.0006458186904291465, 0.0010968042050885061, 0.0005237451723074041, 0.0037085890998699135, 0.0022304548175230325, 0.0030578371031606787, 0.0014419211360873214, 0.00041336234460529354, 0.00241367915655852, 0.0009507500355159223, 0.000561572154682563, 0.015671237233253154, 0.01822564472210702, 0.018484420039920728, 0.004054932578635836, 0.014299875211857235, 0.00048092183386826506, 0.001549976831979296, 0.0022022787860867333, 0.000891151701437142, 0.0015120156144328495, 0.015660190926612947, 0.00400762620293514, 0.0004742576514823606, 0.0003747175234931745, 0.0027038435011801864, 0.00031342225700688517, 0.0043695377695993146, 0.0008687248861273471, 0.0008791551963795394, 0.0009605948353562406, 0.007526065789461089, 0.001250226643593339, 0.00037937838535055375, 0.0021463386114947696, 0.0012488616772710832, 0.0008582834096378825, 0.0036517045414522073, 0.0059063712245854124, 0.001720571825509024, 0.004490242389969627, 0.0005247741970503164, 0.007001152065476733, 0.0011250145115352533, 0.028220545751608962, 0.0004677359189520528, 0.0005496396090461286, 0.0027232533757151137, 0.0014405100054656467, 0.0004978365088169024, 0.009224486393714182, 0.002707360574413876, 0.0011531654240102733, 0.0006339589485474161, 0.012546138721119758, 0.002312863381977767, 0.0023597947669942725, 0.0059699593172042095, 0.0015832473645080948, 0.00031453519387668636, 0.006922521580514939, 0.01058752641431708, 0.002849751074561691, 0.00675988282483854, 0.0005666154756068439, 0.003336175948063946, 0.0005391616902757323, 0.0012245317588567358, 0.0011642518762851242, 0.00044534701539335436, 0.00457671309023407, 0.001589772886884956, 0.0021180071646138845, 0.0061429633135073585, 0.005826150715638334, 0.0014509148929714572, 0.012839694873241592, 0.006740133521569289, 0.007539115875634095, 0.0010423296127370974, 0.0009421038753718976, 0.0007017291568939478, 0.004514764061755348, 0.00042262349816617065, 0.0031406547772665667, 0.0005526439558532506, 0.0010586355758497078, 0.0025286762097417015, 0.009169961450802313, 0.0013526048901836155, 0.006368599562021779, 0.006779963762342217, 0.002858133317068324, 0.00034720231398825533, 0.0014023808630976155, 0.01445890673276672, 0.004393597556761368, 0.010431955454453901, 0.0005474291571035818, 0.002032597686847064, 0.0008234788938454214, 0.00048779134515352117, 0.0005788692326231367, 0.02061118045202547, 0.0009206753604640589, 0.0010432633904184836, 0.0014974889982855486, 0.000720550269458243, 0.011198873755198313, 0.0007468959236382734, 0.007144889574330544, 0.0013841543723709334, 0.006276359138806137, 0.0026660091694008133, 0.00038831309789859916, 0.0005078139426752167, 0.001554745615634487, 0.00037663133788556387, 0.022161315776042495, 0.003003449860737654, 0.022840759295398198, 0.014291484711916937, 0.018172730795021227, 0.0009882546655841185, 0.0019395674826321986, 0.0007509321368142633, 0.0007245015211935484, 0.005271047520621083, 0.023244056076373476, 0.0009947510870926847, 0.0024866633047802883, 0.014889098368690255, 0.006033031887860162, 0.00033222384684227467, 0.0006774630813886644, 0.0008057316213167532, 0.003902507503374396, 0.011805515143925171, 0.0003097538008998504, 0.00036313965240133105, 0.003580815856735131, 0.004182102503718487, 0.0005171079019722833, 0.00040252196991843623, 0.01880937996183691, 0.0008336750734420546, 0.004829115028074538, 0.00045289990313799407, 0.0003342514312238557, 0.004886248996505536, 0.0004954547918663404, 0.002642781833333703, 0.004943037668089929, 0.002317686708398261, 0.00048721477216712676, 0.012621998869945462, 0.0006269178952276247, 0.0036026400489017783, 0.0025253947131567327, 0.002345823488104605, 0.005363634906953216, 0.013766396489790922, 0.007428839705999305, 0.0014557828747916385, 0.007550946627077045, 0.007079193407018215, 0.005227176391344003, 0.00267957887030225, 0.021900988379739996, 0.0007473634584323136, 0.002240155985943927, 0.004326818433965836, 0.0009220768972947014, 0.023229283169757847, 0.026264512055394, 0.0006411174770328192, 0.013157802708472416, 0.0031636651249085813, 0.003806877088694127, 0.016552007159501125, 0.008562385367466091, 0.007749094330685604, 0.000441970407020542, 0.0017143786702058603, 0.0012984477820484062, 0.0006600325583066885, 0.017304754891472665, 0.006192379490624383, 0.007077452634702516, 0.0022419923922633997, 0.0021197387286114094, 0.0024336154945397695, 0.026137149813977124, 0.008014058033894874, 0.0009595373727028102, 0.006897570348443649, 0.02526720923786545, 0.02672901489204572, 0.011870958289608838, 0.011064698927572912, 0.002403021931336058, 0.007865771445683773, 0.009094005192271343, 0.003829462616402479, 0.0016168337038248392, 0.01695845757258814, 0.0003762373105187804, 0.0005018356914190104, 0.015779863973201986, 0.013966760160007741, 0.01175975210133813, 0.002614508928239824, 0.0009833426111475138, 0.0008404983162004635, 0.014569716616831947, 0.0025351526646396247, 0.010630064321511451, 0.0013673018914168726, 0.00041234568103756526, 0.001512430385903877, 0.0005572028247494487, 0.01706436225492554, 0.005379198690131695, 0.0006685667583116932, 0.008293878123337886, 0.0010825072716607008, 0.020363718930602553, 0.00653520386637304, 0.0022921223510607006, 0.02053502706216074, 0.0010305111086926408, 0.021806116005174472, 0.013954972279356152, 0.0003361380134525763, 0.0008238278043342102, 0.0018868895119487426, 0.0031035046971129732, 0.00493990045336901, 0.0007347928655434731, 0.0007688529210191197, 0.004798429290205432, 0.0009769871948148007, 0.012063121095218168, 0.0038901651214966783, 0.0009690056552006204, 0.003937062223780229, 0.0014225848255976386, 0.005101992204557322, 0.0004294867115484708, 0.02321273824456451, 0.0025908481272126755, 0.012173055260175045, 0.0007675531553055286, 0.0029807826346652058, 0.006114413321869602, 0.009609302548851954, 0.012042250904747006, 0.00033409456320756257, 0.0007948415824772706, 0.003381503937217079, 0.0024046470336649686, 0.021022196860275642, 0.006607966464396196, 0.0015129613448860702, 0.013482544073140052, 0.0010271925056437507, 0.0030026622171864577, 0.01942688832161092, 0.0033973961598182745, 0.021507419263573056, 0.0007013247487272228, 0.001978332174169763, 0.0006708812858844929, 0.023188169778920787, 0.003537694911166335, 0.006633423548334318, 0.0006146328466411833, 0.0036882295232631692, 0.002241328220329048, 0.00037534567852395893, 0.0023995620572903097, 0.0019725627585379497, 0.0009689406852672314, 0.0009327761155478898, 0.013796928792415083, 0.021553457195235163, 0.004882416998078406, 0.006904665186093897, 0.0054886422530463705, 0.00657734582380044, 0.00036660946566586454, 0.00544981725860616, 0.00030622178868219054, 0.005205769954980092, 0.0034315952907222054, 0.0004494994443447714, 0.0006326101528090907, 0.002404870359925422, 0.0007374916733467685, 0.001139047864106045, 0.01779211131793379, 0.009424435768076831, 0.0004287928574394473, 0.0005481299876201462, 0.024088998190458004, 0.00032929986793660954, 0.0062262920813347285, 0.007508755747291748, 0.0008232999855265049, 0.0044681199246097815, 0.016285682693188266, 0.005148441043103355, 0.00031694592212100635, 0.009258911496541884, 0.003717436842575967, 0.0013250389211940808, 0.020703724927466336, 0.000522429576474371, 0.0012830091723187729, 0.0022253597652922515, 0.00040441287344930923, 0.009756573003374458, 0.0007225860295077095, 0.0003834483378870423, 0.02111542662636237, 0.00036670080927935585, 0.004122431122108398, 0.0016457843569229356, 0.0004547144498724914, 0.004293958504173815, 0.00038520472935648444, 0.0005891918794418389, 0.008763844266140863, 0.00428803590203436, 0.028234162170245145, 0.002082431756460398, 0.0007584280492655036, 0.01840115995453535, 0.006281481589850482, 0.013209486561835411, 0.007688902029763357, 0.029127366122019466, 0.0022886529831287533, 0.014199682412400818, 0.01660067887953711, 0.00042653551919739636, 0.0014613656117315518, 0.0007038066225926111, 0.025012948353073487, 0.0009302681109641945, 0.01608931932916949, 0.003337840578038956, 0.0012612785520717915, 0.003049717117882106, 0.0016429590562418994, 0.000735268970487972, 0.0012687899454683369, 0.018396327549912467, 0.0010084308689692536, 0.0008025305640903171, 0.0005685247116232703, 0.0004517255015210718, 0.016166252740005826, 0.005990637448214493, 0.020701445324727903, 0.011336816872525851, 0.003687075702124651, 0.003625718482734702, 0.0018506243051004136, 0.003050868719764064, 0.0011055887910570693, 0.0028684011936543916, 0.0007000390551409338, 0.0007279093615156008, 0.00617580648974824, 0.01707405099990152, 0.02484842719080357, 0.02755977775123022, 0.004944777690260521, 0.02036896633801572, 0.026845042427953984, 0.003014655334318732, 0.009351779505854994, 0.0004372618815885959, 0.010072023273948072, 0.014266855362569626, 0.0005178296577706463, 0.019050138815367962, 0.0007285529010997137, 0.004550410049332222, 0.0016098623896069113, 0.02781883319173019, 0.01795671608877739, 0.0010848792425362085, 0.009241503653246826, 0.0030137132992821315, 0.0004627053059305652, 0.01811213555632017, 0.026271441214764733, 0.0024511964782719135, 0.013463970442806575, 0.0007900177321741227, 0.00030101159273296813, 0.0007373154687221259, 0.0009091688161896328, 0.0010211455421496281, 0.022263327637450703, 0.018636766082323942, 0.00034908269396849727, 0.00045066765495851535, 0.000659243180241919, 0.02915964481488632, 0.002613342879685796, 0.0005899367613491469, 0.02609142589979332, 0.006029213040236882, 0.0003915148160509124, 0.0007694587318790591, 0.0023376827472641956, 0.009363092967546047, 0.003601422540598435, 0.0007748808901663156, 0.004452531469380164, 0.007375996668406596, 0.002730276378968493, 0.0030283753014147497, 0.011722897168935752, 0.0015248649649713991, 0.001676934391011395, 0.0015085356024053247, 0.005210961018225472, 0.004741707858599963, 0.002133268100515079, 0.0003579041957061894, 0.009225766825259588, 0.011186393036691292, 0.000313865689981946, 0.016794331002927935, 0.0009172300010236093, 0.029474116765714844, 0.015495031620499141, 0.000939728677332093, 0.001186156815468395, 0.0024285779176480985, 0.011227391800925177, 0.005327607343974203, 0.015001206979980577, 0.0003061687046894518, 0.025851035789568405, 0.0019553520797626076, 0.0004876708240000265, 0.0010896925551881237, 0.004213157047869888, 0.022348303271266325, 0.0006570953560687385, 0.0013820736300949443, 0.002428356056856237, 0.0003601990077344872, 0.014703642836196478, 0.020124377584108875, 0.02171661308233668, 0.0025217493807192836, 0.00048647824074131077, 0.0007353799579842123, 0.007435913641511698, 0.0015309707857598534, 0.023778442469318133, 0.0018550516282067134, 0.018584370850777552, 0.00044132161541246713, 0.028851394596181038, 0.00037829318775748385, 0.001565216392744064, 0.0017937603295463348, 0.0003320935728720915, 0.0011898973536938022, 0.0029151264103843434, 0.008131610865493636, 0.0008510789675973483, 0.0005096978650046708, 0.0036039427806429133, 0.0035928053231334377, 0.0007109966981482178, 0.006899844958923514, 0.0010347444602731776, 0.025860303021574008, 0.0032415684162824805, 0.0014132645743338637, 0.001244016350525916, 0.003782297962791953, 0.0030414098977933576, 0.010753611415114895, 0.00035432612406275136, 0.00036194765709315923, 0.00037717368300142925, 0.017169209544631164, 0.002851208973144772, 0.0009521802777811281, 0.01869805792773245, 0.0030600160547104823, 0.005816874781525445, 0.0003355039410633151, 0.001492546729666842, 0.0005227523772977287, 0.011093249150449116, 0.0011317236318633922, 0.0003394355761487404, 0.004495762439305272, 0.0003044510569589083, 0.0049164279801344754, 0.01353495377739996, 0.015928540756682825, 0.0005296181852932239, 0.009486276030785475, 0.005000169698013885, 0.007849229768676769, 0.013957399000227962, 0.016288139586678033, 0.00046918887856636034, 0.016995525108803082, 0.0008163660318312823, 0.028411698039472615, 0.00047801469801993425, 0.02179066203581671, 0.0006603341946342908, 0.007763679966559743, 0.0007541294099445132, 0.0012159980155283683, 0.0023232724449976767, 0.014538121663541901, 0.003275792192098914, 0.000548486957712379, 0.0015672384099289231, 0.0008243756810630298, 0.01266265809522302, 0.00591789792526743, 0.01359204107333974, 0.009511463172733551, 0.026007369727367162, 0.0019240446915597415, 0.0004426853893255711, 0.012990174376593057, 0.01216435896820946, 0.013303848683926782, 0.0055389180676457695, 0.0020289162441655384, 0.0022114265158323905, 0.02745792784798106, 0.006906066155891758, 0.0010311493367455575, 0.004982808766287567, 0.022700528879228472, 0.02971350873685049, 0.0006106536037607019, 0.0021344660785353746, 0.00030249566361960237, 0.0008313550585621119, 0.005263204049500628, 0.0014753600519938487, 0.0155038524835542, 0.011112030059954474, 0.0033673733597447725, 0.002761065587751369, 0.01946276116023705, 0.0025972692442042746, 0.0006535513168233318, 0.015604790880827514, 0.0040553977114904825, 0.000949935705365313, 0.004968050331033691, 0.020011207545809456, 0.0003770964399683679, 0.0003873468492685412, 0.014067812414221777, 0.0008704931910463394, 0.004487083065264444, 0.009798440747041469, 0.006977263962997374, 0.010507776730598084, 0.00039086875793474193, 0.023878483566605907, 0.006278133123374532, 0.0009128054110493219, 0.0013539226746531602, 0.010237797463737952, 0.024137456371439672, 0.00041026253915989305, 0.0029903576131528353, 0.006676834310739133, 0.0006059609175495494, 0.018017060609425935, 0.021981702853927067, 0.001633070341327397, 0.008079159895759773, 0.0017072838817204922, 0.004575151578735755, 0.0013353049642763173, 0.003740187045517209, 0.0012514297110169622, 0.005146559101119314, 0.0005102887824700481, 0.0004264242133984704, 0.001658656986301596, 0.008074369212720112, 0.0005480255479560841, 0.00045951695869284693, 0.0019306508821506894, 0.005790477446537556, 0.00040442626588748786, 0.0005322769037336638, 0.0038459263582644545, 0.0035462578454267973, 0.00044717035841799617, 0.001503657006175232, 0.007157009818453462, 0.0016975276766320367, 0.0010978847206692109, 0.008806296225323827, 0.004458624553916969, 0.019181853276009096, 0.0036605100419561743, 0.005670622766563934, 0.009580416697719304, 0.008260139338586497, 0.004693878410526341, 0.027331302895072483, 0.003937146303241777, 0.014761092287617099, 0.0022413304177603135, 0.0033827790018506037, 0.003976919640521284, 0.0004948430962755476, 0.0005968508333647093, 0.022188757347047505, 0.00224323644836399, 0.00045924189492601143, 0.010859748845312883, 0.0004976459568582539, 0.01694218271174686, 0.004881574661260279, 0.0006802439072312997, 0.00041254569047995316, 0.000395655499846657, 0.027742042097657592, 0.008009423573831692, 0.0018230917289068713, 0.024164957916459694, 0.0007318438945248614, 0.005022663981235395, 0.028766590882003368, 0.007078950871222874, 0.0013942277621491281, 0.008876108232165237, 0.00030944819472446147, 0.018723017798260674, 0.0003053229521101794, 0.016171868457865408, 0.010677467619994841, 0.004629327572901429, 0.027352638028323717, 0.024939423612724283, 0.00034728776058585227, 0.0040593591614780326, 0.0011822706297256373, 0.0012805470480734557, 0.0028225714044017693, 0.004645121904133566, 0.0178920603266797, 0.024512228926327182, 0.013724771419889762, 0.008334287056415729, 0.0006423108625163046, 0.0003130602808280341, 0.026704523571270792, 0.00037936212539576707, 0.0014380719266641185, 0.020380192437997813, 0.0008794443820840335, 0.00036810123711585, 0.0009723181498271067, 0.005685733497883332, 0.010917664348258567, 0.0006055321479624477, 0.009482775212138009, 0.005346128945926537, 0.005401693320605036, 0.0019450943505423565, 0.0032474023853239042, 0.0005844719916629764, 0.0004620939965464517, 0.000620609714072745, 0.001624699435210186, 0.0006081186022676055, 0.0026762155680464922, 0.004520709455978471, 0.003921259910748938, 0.017307532503130496, 0.008153915531186473, 0.007829637577478898, 0.00031203847194084935, 0.000348876638238648, 0.004024412766421623, 0.0016334857583336245, 0.0006859680614508324, 0.0017752646741132983, 0.0009662262800564571, 0.006688295063021943, 0.0011192961212808938, 0.0008244472041413022, 0.010404073965985982, 0.006571409657412372, 0.004176423683400421, 0.0058971868582807134, 0.0015523526598642736, 0.00038450239519193186, 0.005312465221611597, 0.0031220993384243234, 0.023280569548167977, 0.0010805766460713977, 0.0012707422776330286, 0.0017157627068676482, 0.006373119293414838, 0.008944381692435525, 0.01064920251696353, 0.023934005685125475, 0.01324684549315026, 0.016376985079725875, 0.0011854163895991493, 0.005067617929485511, 0.0027520087260840347, 0.0124616469805069, 0.014195078383826292, 0.0004927732496673819, 0.0011873557412991971, 0.02373597362149613, 0.0025136535391548256, 0.0005370383657365631], 'model__optimizer': ['adam', 'sgd', 'nesterov']}\n"
     ]
    }
   ],
   "source": [
    "print(param_distribs)"
   ]
  },
  {
   "cell_type": "code",
   "execution_count": 36,
   "id": "6d44c1f0e04e437e",
   "metadata": {
    "ExecuteTime": {
     "end_time": "2024-05-21T15:00:05.001449Z",
     "start_time": "2024-05-21T15:00:04.993068Z"
    },
    "collapsed": false,
    "jupyter": {
     "outputs_hidden": false
    }
   },
   "outputs": [],
   "source": [
    "import pickle\n",
    "with open('rnd_search_params.pkl', \"wb\") as f:\n",
    "    pickle.dump(rnd_search_cv.best_params_, f)"
   ]
  },
  {
   "cell_type": "code",
   "execution_count": 37,
   "id": "1add61881a95ae68",
   "metadata": {
    "ExecuteTime": {
     "end_time": "2024-05-21T15:01:17.252139Z",
     "start_time": "2024-05-21T15:01:17.167806Z"
    },
    "collapsed": false,
    "jupyter": {
     "outputs_hidden": false
    }
   },
   "outputs": [],
   "source": [
    "with open('rnd_search_scikeras.pkl', 'wb') as f:\n",
    "    pickle.dump(rnd_search_cv, f)"
   ]
  },
  {
   "cell_type": "code",
   "execution_count": 74,
   "id": "beb527eaa6eaf95",
   "metadata": {
    "ExecuteTime": {
     "end_time": "2024-05-21T18:11:03.344047Z",
     "start_time": "2024-05-21T18:11:03.330395Z"
    },
    "collapsed": false,
    "jupyter": {
     "outputs_hidden": false
    }
   },
   "outputs": [],
   "source": [
    "import keras_tuner as kt\n",
    "def build_model_kt(hp):\n",
    "    # Define the number of hidden layers\n",
    "    n_hidden = hp.Int(\"n_hidden\", min_value=0, max_value=3, default=2)\n",
    "    # Define the number of neurons in each hidden layer\n",
    "    n_neurons = hp.Int(\"n_neurons\", min_value=16, max_value=256)\n",
    "    # Define the learning rate\n",
    "    learning_rate = hp.Float(\"learning_rate\", min_value=1e-4, max_value=1e-2, sampling=\"log\")\n",
    "    # Choose the optimizer\n",
    "    optimizer = hp.Choice(\"optimizer\", values=[\"sgd\", \"adam\"])\n",
    "    if optimizer == \"sgd\":\n",
    "        optimizer = tf.keras.optimizers.SGD(learning_rate=learning_rate)\n",
    "    else:\n",
    "        optimizer = tf.keras.optimizers.Adam(learning_rate=learning_rate)\n",
    "\n",
    "    # Build the Sequential model\n",
    "    model = tf.keras.models.Sequential()\n",
    "    # Add a Flatten layer to convert the input to a flat vector\n",
    "    model.add(tf.keras.layers.Flatten())\n",
    "    # Add the hidden layers\n",
    "    for _ in range(n_hidden):\n",
    "        model.add(tf.keras.layers.Dense(n_neurons, activation=\"relu\"))\n",
    "    # Add the output layer with a single neuron for regression\n",
    "    model.add(tf.keras.layers.Dense(1))\n",
    "    # Compile the model with mean squared error loss and mean squared error metric\n",
    "    model.compile(loss=\"mse\", optimizer=optimizer, metrics=[\"mse\"])\n",
    "    return model "
   ]
  },
  {
   "cell_type": "code",
   "execution_count": 75,
   "id": "209adf2dbdc7c2d1",
   "metadata": {
    "ExecuteTime": {
     "end_time": "2024-05-21T18:11:04.158769Z",
     "start_time": "2024-05-21T18:11:04.121534Z"
    },
    "collapsed": false,
    "jupyter": {
     "outputs_hidden": false
    }
   },
   "outputs": [],
   "source": [
    "random_search_tuner = kt.RandomSearch(\n",
    "    build_model_kt, \n",
    "    objective=\"val_mse\",  # Objective is validation mean squared error\n",
    "    max_trials=10, \n",
    "    overwrite=True,\n",
    "    directory=\"my_california_housing\", \n",
    "    project_name=\"my_rnd_search\", \n",
    "    seed=42\n",
    ")\n",
    "\n"
   ]
  },
  {
   "cell_type": "code",
   "execution_count": 76,
   "id": "8f1c8038af7faace",
   "metadata": {
    "ExecuteTime": {
     "end_time": "2024-05-21T18:11:04.910040Z",
     "start_time": "2024-05-21T18:11:04.904002Z"
    },
    "collapsed": false,
    "jupyter": {
     "outputs_hidden": false
    }
   },
   "outputs": [],
   "source": [
    "import os\n",
    "root_logdir = os.path.join(random_search_tuner.project_dir, 'tensorboard')\n",
    "tb = tf.keras.callbacks.TensorBoard(root_logdir)\n"
   ]
  },
  {
   "cell_type": "code",
   "execution_count": 77,
   "id": "106a6b07dc740125",
   "metadata": {
    "collapsed": false,
    "jupyter": {
     "outputs_hidden": false
    }
   },
   "outputs": [
    {
     "name": "stdout",
     "output_type": "stream",
     "text": [
      "Trial 10 Complete [00h 00m 16s]\n",
      "val_mse: 0.35453954339027405\n",
      "\n",
      "Best val_mse So Far: 0.34393811225891113\n",
      "Total elapsed time: 00h 02m 44s\n"
     ]
    }
   ],
   "source": [
    "random_search_tuner.search(X_train, y_train, epochs=100, callbacks=[es, tb],\n",
    "validation_data=(X_valid, y_valid))"
   ]
  },
  {
   "cell_type": "code",
   "execution_count": 91,
   "id": "f0ecb76aea46fd01",
   "metadata": {
    "ExecuteTime": {
     "end_time": "2024-05-21T18:27:35.032054Z",
     "start_time": "2024-05-21T18:27:35.024707Z"
    },
    "collapsed": false,
    "jupyter": {
     "outputs_hidden": false
    }
   },
   "outputs": [],
   "source": [
    "best_hyperparams = random_search_tuner.get_best_hyperparameters()[0]\n",
    "\n",
    "final_dict = {\n",
    "    'n_hidden': best_hyperparams.get('n_hidden'),\n",
    "    'n_neurons': best_hyperparams.get('n_neurons'),\n",
    "    'learning_rate': best_hyperparams.get('learning_rate'),\n",
    "    'optimizer': best_hyperparams.get('optimizer')\n",
    "}"
   ]
  },
  {
   "cell_type": "code",
   "execution_count": 92,
   "id": "c58214f1bf6dcc7c",
   "metadata": {
    "ExecuteTime": {
     "end_time": "2024-05-21T18:27:36.110706Z",
     "start_time": "2024-05-21T18:27:36.102502Z"
    },
    "collapsed": false,
    "jupyter": {
     "outputs_hidden": false
    }
   },
   "outputs": [],
   "source": [
    "with open('kt_search_params.pkl', 'wb') as f:\n",
    "    pickle.dump(final_dict, f)\n",
    "    "
   ]
  },
  {
   "cell_type": "code",
   "execution_count": 93,
   "id": "8d990f1a27bd8f61",
   "metadata": {
    "ExecuteTime": {
     "end_time": "2024-05-21T18:27:48.886548Z",
     "start_time": "2024-05-21T18:27:36.871510Z"
    },
    "collapsed": false,
    "jupyter": {
     "outputs_hidden": false
    }
   },
   "outputs": [
    {
     "name": "stdout",
     "output_type": "stream",
     "text": [
      "Epoch 1/100\n",
      "\u001b[1m363/363\u001b[0m \u001b[32m━━━━━━━━━━━━━━━━━━━━\u001b[0m\u001b[37m\u001b[0m \u001b[1m2s\u001b[0m 3ms/step - loss: 1.2966 - mse: 1.2966 - val_loss: 0.7148 - val_mse: 0.7148\n",
      "Epoch 2/100\n",
      "\u001b[1m363/363\u001b[0m \u001b[32m━━━━━━━━━━━━━━━━━━━━\u001b[0m\u001b[37m\u001b[0m \u001b[1m1s\u001b[0m 3ms/step - loss: 0.4449 - mse: 0.4449 - val_loss: 1.3596 - val_mse: 1.3596\n",
      "Epoch 3/100\n",
      "\u001b[1m363/363\u001b[0m \u001b[32m━━━━━━━━━━━━━━━━━━━━\u001b[0m\u001b[37m\u001b[0m \u001b[1m1s\u001b[0m 3ms/step - loss: 0.4072 - mse: 0.4072 - val_loss: 0.6599 - val_mse: 0.6599\n",
      "Epoch 4/100\n",
      "\u001b[1m363/363\u001b[0m \u001b[32m━━━━━━━━━━━━━━━━━━━━\u001b[0m\u001b[37m\u001b[0m \u001b[1m1s\u001b[0m 3ms/step - loss: 0.3699 - mse: 0.3699 - val_loss: 0.9765 - val_mse: 0.9765\n",
      "Epoch 5/100\n",
      "\u001b[1m363/363\u001b[0m \u001b[32m━━━━━━━━━━━━━━━━━━━━\u001b[0m\u001b[37m\u001b[0m \u001b[1m1s\u001b[0m 3ms/step - loss: 0.3610 - mse: 0.3610 - val_loss: 0.3785 - val_mse: 0.3785\n",
      "Epoch 6/100\n",
      "\u001b[1m363/363\u001b[0m \u001b[32m━━━━━━━━━━━━━━━━━━━━\u001b[0m\u001b[37m\u001b[0m \u001b[1m1s\u001b[0m 3ms/step - loss: 0.3484 - mse: 0.3484 - val_loss: 0.3320 - val_mse: 0.3320\n",
      "Epoch 7/100\n",
      "\u001b[1m363/363\u001b[0m \u001b[32m━━━━━━━━━━━━━━━━━━━━\u001b[0m\u001b[37m\u001b[0m \u001b[1m1s\u001b[0m 3ms/step - loss: 0.3441 - mse: 0.3441 - val_loss: 0.4063 - val_mse: 0.4063\n",
      "Epoch 8/100\n",
      "\u001b[1m363/363\u001b[0m \u001b[32m━━━━━━━━━━━━━━━━━━━━\u001b[0m\u001b[37m\u001b[0m \u001b[1m1s\u001b[0m 3ms/step - loss: 0.3289 - mse: 0.3289 - val_loss: 0.3234 - val_mse: 0.3234\n",
      "Epoch 9/100\n",
      "\u001b[1m363/363\u001b[0m \u001b[32m━━━━━━━━━━━━━━━━━━━━\u001b[0m\u001b[37m\u001b[0m \u001b[1m1s\u001b[0m 3ms/step - loss: 0.3274 - mse: 0.3274 - val_loss: 0.4117 - val_mse: 0.4117\n",
      "Epoch 10/100\n",
      "\u001b[1m363/363\u001b[0m \u001b[32m━━━━━━━━━━━━━━━━━━━━\u001b[0m\u001b[37m\u001b[0m \u001b[1m1s\u001b[0m 3ms/step - loss: 0.3287 - mse: 0.3287 - val_loss: 0.4247 - val_mse: 0.4247\n",
      "Epoch 10: early stopping\n"
     ]
    },
    {
     "data": {
      "text/plain": [
       "<keras.src.callbacks.history.History at 0x2b3999ab140>"
      ]
     },
     "execution_count": 93,
     "metadata": {},
     "output_type": "execute_result"
    }
   ],
   "source": [
    "best_model = random_search_tuner.hypermodel.build(best_hyperparams)\n",
    "\n",
    "# Compile the best model\n",
    "best_model.compile(loss=\"mse\", \n",
    "                   optimizer=best_model.optimizer, \n",
    "                   metrics=[\"mse\"])\n",
    "\n",
    "# Train the best model (if not already trained during search)\n",
    "best_model.fit(X_train, y_train, \n",
    "               epochs=100, \n",
    "               validation_data=(X_valid, y_valid), \n",
    "               callbacks=[es, tb])"
   ]
  },
  {
   "cell_type": "code",
   "execution_count": 94,
   "id": "62ba792ad740d80",
   "metadata": {
    "ExecuteTime": {
     "end_time": "2024-05-21T18:28:05.855406Z",
     "start_time": "2024-05-21T18:28:05.823232Z"
    },
    "collapsed": false,
    "jupyter": {
     "outputs_hidden": false
    }
   },
   "outputs": [],
   "source": [
    "best_model.save('kt_best_model.keras')"
   ]
  },
  {
   "cell_type": "code",
   "execution_count": null,
   "id": "42e57aa1a1983aab",
   "metadata": {
    "collapsed": false,
    "jupyter": {
     "outputs_hidden": false
    }
   },
   "outputs": [],
   "source": []
  }
 ],
 "metadata": {
  "kernelspec": {
   "display_name": "Python 3 (ipykernel)",
   "language": "python",
   "name": "python3"
  },
  "language_info": {
   "codemirror_mode": {
    "name": "ipython",
    "version": 3
   },
   "file_extension": ".py",
   "mimetype": "text/x-python",
   "name": "python",
   "nbconvert_exporter": "python",
   "pygments_lexer": "ipython3",
   "version": "3.12.0"
  }
 },
 "nbformat": 4,
 "nbformat_minor": 5
}
